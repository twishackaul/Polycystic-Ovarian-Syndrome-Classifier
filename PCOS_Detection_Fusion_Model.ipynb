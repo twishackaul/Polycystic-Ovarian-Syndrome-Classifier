{
  "nbformat": 4,
  "nbformat_minor": 0,
  "metadata": {
    "colab": {
      "provenance": [],
      "authorship_tag": "ABX9TyMueWk9KmeFJ79EpO+Jovda",
      "include_colab_link": true
    },
    "kernelspec": {
      "name": "python3",
      "display_name": "Python 3"
    },
    "language_info": {
      "name": "python"
    }
  },
  "cells": [
    {
      "cell_type": "markdown",
      "metadata": {
        "id": "view-in-github",
        "colab_type": "text"
      },
      "source": [
        "<a href=\"https://colab.research.google.com/github/twishackaul/Polycystic-Ovarian-Syndrome-Classifier/blob/main/PCOS_Detection_Fusion_Model.ipynb\" target=\"_parent\"><img src=\"https://colab.research.google.com/assets/colab-badge.svg\" alt=\"Open In Colab\"/></a>"
      ]
    },
    {
      "cell_type": "code",
      "execution_count": 1,
      "metadata": {
        "id": "MVgQOVFOv9To"
      },
      "outputs": [],
      "source": [
        "import tensorflow as tf\n",
        "import numpy as np\n",
        "from tensorflow.keras.layers import Dense, Concatenate, Input, Flatten, Dropout, BatchNormalization\n",
        "from tensorflow.keras.models import Model\n",
        "from keras import Sequential\n",
        "from tensorflow.keras import backend as K\n",
        "import matplotlib.pyplot as plt\n",
        "import seaborn as sns\n",
        "import pandas as pd\n",
        "from tensorflow.keras.regularizers import l2"
      ]
    },
    {
      "cell_type": "code",
      "source": [
        "import cv2\n",
        "from tensorflow.keras.preprocessing.image import ImageDataGenerator\n",
        "from tensorflow.keras.utils import img_to_array, load_img\n",
        "import os"
      ],
      "metadata": {
        "id": "A_2sJenayvn2"
      },
      "execution_count": 2,
      "outputs": []
    },
    {
      "cell_type": "code",
      "source": [
        "import warnings\n",
        "warnings.filterwarnings('ignore')"
      ],
      "metadata": {
        "id": "0aYyqjeZkH-y"
      },
      "execution_count": 3,
      "outputs": []
    },
    {
      "cell_type": "markdown",
      "source": [
        "### Ultrasound Data Preprocessing"
      ],
      "metadata": {
        "id": "rEg6AxOZrkCf"
      }
    },
    {
      "cell_type": "code",
      "source": [
        "# ultrasound dataset\n",
        "\n",
        "!kaggle datasets download -d shnotweta/2000-images-of-ultrasound-for-pcos"
      ],
      "metadata": {
        "colab": {
          "base_uri": "https://localhost:8080/"
        },
        "id": "M4EDnEJudc5h",
        "outputId": "b147a28b-7f08-411c-a4f8-d9e3a506df33"
      },
      "execution_count": 4,
      "outputs": [
        {
          "output_type": "stream",
          "name": "stdout",
          "text": [
            "Dataset URL: https://www.kaggle.com/datasets/shnotweta/2000-images-of-ultrasound-for-pcos\n",
            "License(s): unknown\n",
            "Downloading 2000-images-of-ultrasound-for-pcos.zip to /content\n",
            " 78% 50.0M/64.5M [00:00<00:00, 109MB/s]\n",
            "100% 64.5M/64.5M [00:00<00:00, 119MB/s]\n"
          ]
        }
      ]
    },
    {
      "cell_type": "code",
      "source": [
        "import zipfile\n",
        "zip_ref = zipfile.ZipFile(\"/content/2000-images-of-ultrasound-for-pcos.zip\")\n",
        "zip_ref.extractall(\"/content\")\n",
        "zip_ref.close()"
      ],
      "metadata": {
        "id": "WR81S3ljl-DJ"
      },
      "execution_count": 5,
      "outputs": []
    },
    {
      "cell_type": "code",
      "source": [
        "import os\n",
        "\n",
        "image_folder = '/content/dataset'\n",
        "image_files = os.listdir(image_folder)\n",
        "\n",
        "# Check the first few image filenames\n",
        "print(image_files[:5])"
      ],
      "metadata": {
        "colab": {
          "base_uri": "https://localhost:8080/"
        },
        "id": "BJvU81K1tIhX",
        "outputId": "bb959af9-991f-415e-c36b-4573a95c9351"
      },
      "execution_count": 6,
      "outputs": [
        {
          "output_type": "stream",
          "name": "stdout",
          "text": [
            "['normal', 'pcos']\n"
          ]
        }
      ]
    },
    {
      "cell_type": "code",
      "source": [
        "dataset_dir = '/content/dataset'\n",
        "for root, dirs, files in os.walk(dataset_dir):\n",
        "    for file in files:\n",
        "        file_path = os.path.join(root, file)\n",
        "        if os.path.getsize(file_path) == 0:  # Check for zero-byte files\n",
        "            print(f\"Empty file detected and removed: {file_path}\")\n",
        "            os.remove(file_path)  # Remove the empty file"
      ],
      "metadata": {
        "id": "PjwaCs4iuEUA"
      },
      "execution_count": 7,
      "outputs": []
    },
    {
      "cell_type": "code",
      "source": [
        "from tensorflow.keras.preprocessing import image"
      ],
      "metadata": {
        "id": "MeY69UmQtN1f"
      },
      "execution_count": 8,
      "outputs": []
    },
    {
      "cell_type": "code",
      "source": [
        "def apply_noise_reduction(image, kernel_size=(5, 5)):\n",
        "    return cv2.GaussianBlur(image, kernel_size, 0)"
      ],
      "metadata": {
        "id": "8W9o4ygcyy21"
      },
      "execution_count": 9,
      "outputs": []
    },
    {
      "cell_type": "code",
      "source": [
        "def augment_image(image):\n",
        "    datagen = ImageDataGenerator(\n",
        "        rotation_range=20,\n",
        "        width_shift_range=0.2,\n",
        "        height_shift_range=0.2,\n",
        "        shear_range=0.2,\n",
        "        zoom_range=0.2,\n",
        "        horizontal_flip=True,\n",
        "        fill_mode='nearest'\n",
        "    )\n",
        "    image = np.expand_dims(image, axis=0)\n",
        "    it = datagen.flow(image, batch_size=1)\n",
        "    return it[0][0]"
      ],
      "metadata": {
        "id": "4dWP8erVy3JB"
      },
      "execution_count": 10,
      "outputs": []
    },
    {
      "cell_type": "code",
      "source": [
        "def load_and_preprocess_images(image_folder, img_size=(256, 256)):\n",
        "    images = []\n",
        "    labels = []\n",
        "    # Get the list of image files from the directory\n",
        "    for root, dirs, files in os.walk(image_folder):\n",
        "        for file in files:\n",
        "            img_path = os.path.join(root, file)\n",
        "\n",
        "            # Check if the path is a file and has a valid image extension\n",
        "            if os.path.isfile(img_path) and file.lower().endswith(('.png', '.jpg', '.jpeg')):\n",
        "                img = image.load_img(img_path, target_size = img_size)\n",
        "                img_array = image.img_to_array(img)\n",
        "                img_array = img_array / 255.0  # Normalize to [0, 1]\n",
        "                images.append(img_array)\n",
        "\n",
        "                # Extract label from directory name or file name\n",
        "                if 'PCOS' in root.upper() or 'PCOS' in file.upper():\n",
        "                    labels.append(1)  # PCOS\n",
        "                else:\n",
        "                    labels.append(0)  # non-PCOS\n",
        "            else:\n",
        "                print(f\"Skipping {img_path}, as it is not a valid image file.\")\n",
        "\n",
        "    return np.array(images), np.array(labels)"
      ],
      "metadata": {
        "id": "ND_LCo15CtDC"
      },
      "execution_count": 11,
      "outputs": []
    },
    {
      "cell_type": "code",
      "source": [
        "image_folder = '/content/dataset'\n",
        "ultrasound_images, ultrasound_labels = load_and_preprocess_images(image_folder)\n",
        "print(\"Images shape:\", ultrasound_images.shape)\n",
        "print(\"Labels shape:\", ultrasound_labels.shape)"
      ],
      "metadata": {
        "colab": {
          "base_uri": "https://localhost:8080/"
        },
        "id": "wcmOAqH0taKn",
        "outputId": "25a277df-180f-40b7-fb20-745533767ebf"
      },
      "execution_count": 12,
      "outputs": [
        {
          "output_type": "stream",
          "name": "stdout",
          "text": [
            "Images shape: (1987, 256, 256, 3)\n",
            "Labels shape: (1987,)\n"
          ]
        }
      ]
    },
    {
      "cell_type": "markdown",
      "source": [
        "### Clinical Data Preprocessing"
      ],
      "metadata": {
        "id": "KXRQYBOZrpdM"
      }
    },
    {
      "cell_type": "code",
      "source": [
        "# clinical data\n",
        "\n",
        "!kaggle datasets download -d dhawalsakharwade/pcosdataa"
      ],
      "metadata": {
        "colab": {
          "base_uri": "https://localhost:8080/"
        },
        "id": "lKI_aXy-kbs2",
        "outputId": "ebb3b52e-d6f5-427d-f949-011a83d29e95"
      },
      "execution_count": 13,
      "outputs": [
        {
          "output_type": "stream",
          "name": "stdout",
          "text": [
            "Dataset URL: https://www.kaggle.com/datasets/dhawalsakharwade/pcosdataa\n",
            "License(s): unknown\n",
            "Downloading pcosdataa.zip to /content\n",
            "  0% 0.00/28.0k [00:00<?, ?B/s]\n",
            "100% 28.0k/28.0k [00:00<00:00, 41.9MB/s]\n"
          ]
        }
      ]
    },
    {
      "cell_type": "code",
      "source": [
        "import zipfile\n",
        "zip_ref = zipfile.ZipFile(\"/content/pcosdataa.zip\")\n",
        "zip_ref.extractall(\"/content\")\n",
        "zip_ref.close()"
      ],
      "metadata": {
        "id": "1afI_SeNl9pR"
      },
      "execution_count": 14,
      "outputs": []
    },
    {
      "cell_type": "code",
      "source": [
        "import numpy as np\n",
        "import pandas as pd\n",
        "import matplotlib.pyplot as plt\n",
        "import seaborn as sns\n",
        "import tensorflow as tf\n",
        "from tensorflow import keras"
      ],
      "metadata": {
        "id": "GEUn3Slim7rS"
      },
      "execution_count": 15,
      "outputs": []
    },
    {
      "cell_type": "code",
      "source": [
        "pcos_df = pd.read_csv('/content/data_with_diseases.csv')\n",
        "pcos_df.head()"
      ],
      "metadata": {
        "colab": {
          "base_uri": "https://localhost:8080/",
          "height": 253
        },
        "id": "4gKZQobdmIeR",
        "outputId": "4d283fc6-9031-4559-e94b-a10e808c2f26"
      },
      "execution_count": 16,
      "outputs": [
        {
          "output_type": "execute_result",
          "data": {
            "text/plain": [
              "   Sl. No  Patient File No.  PCOS (Y/N)   Age (yrs)  Weight (Kg)  Height(Cm)   \\\n",
              "0       1                 1           0          28         44.6        152.0   \n",
              "1       2                 2           0          36         65.0        161.5   \n",
              "2       3                 3           1          33         68.8        165.0   \n",
              "3       4                 4           0          37         65.0        148.0   \n",
              "4       5                 5           0          25         52.0        161.0   \n",
              "\n",
              "         BMI  Blood Group  Pulse rate(bpm)   RR (breaths/min)  ...  \\\n",
              "0  19.300000           15                78                22  ...   \n",
              "1  24.921163           15                74                20  ...   \n",
              "2  25.270891           11                72                18  ...   \n",
              "3  29.674945           13                72                20  ...   \n",
              "4  20.060954           11                72                18  ...   \n",
              "\n",
              "   Follicle No. (L)  Follicle No. (R)  Avg. F size (L) (mm)  \\\n",
              "0                 3                 3                  18.0   \n",
              "1                 3                 5                  15.0   \n",
              "2                13                15                  18.0   \n",
              "3                 2                 2                  15.0   \n",
              "4                 3                 4                  16.0   \n",
              "\n",
              "   Avg. F size (R) (mm)  Endometrium (mm)  Unnamed: 41  Diabetes  \\\n",
              "0                  18.0               8.5          NaN         0   \n",
              "1                  14.0               3.7          NaN         0   \n",
              "2                  20.0              10.0          NaN         1   \n",
              "3                  14.0               7.5          NaN         0   \n",
              "4                  14.0               7.0          NaN         0   \n",
              "\n",
              "   Hypertension  Infertility  stressLevel  \n",
              "0             0            0            1  \n",
              "1             0            0            2  \n",
              "2             1            0            3  \n",
              "3             0            0            2  \n",
              "4             0            0            2  \n",
              "\n",
              "[5 rows x 46 columns]"
            ],
            "text/html": [
              "\n",
              "  <div id=\"df-815e7fa5-e796-494b-8d94-a13691c76b3a\" class=\"colab-df-container\">\n",
              "    <div>\n",
              "<style scoped>\n",
              "    .dataframe tbody tr th:only-of-type {\n",
              "        vertical-align: middle;\n",
              "    }\n",
              "\n",
              "    .dataframe tbody tr th {\n",
              "        vertical-align: top;\n",
              "    }\n",
              "\n",
              "    .dataframe thead th {\n",
              "        text-align: right;\n",
              "    }\n",
              "</style>\n",
              "<table border=\"1\" class=\"dataframe\">\n",
              "  <thead>\n",
              "    <tr style=\"text-align: right;\">\n",
              "      <th></th>\n",
              "      <th>Sl. No</th>\n",
              "      <th>Patient File No.</th>\n",
              "      <th>PCOS (Y/N)</th>\n",
              "      <th>Age (yrs)</th>\n",
              "      <th>Weight (Kg)</th>\n",
              "      <th>Height(Cm)</th>\n",
              "      <th>BMI</th>\n",
              "      <th>Blood Group</th>\n",
              "      <th>Pulse rate(bpm)</th>\n",
              "      <th>RR (breaths/min)</th>\n",
              "      <th>...</th>\n",
              "      <th>Follicle No. (L)</th>\n",
              "      <th>Follicle No. (R)</th>\n",
              "      <th>Avg. F size (L) (mm)</th>\n",
              "      <th>Avg. F size (R) (mm)</th>\n",
              "      <th>Endometrium (mm)</th>\n",
              "      <th>Unnamed: 41</th>\n",
              "      <th>Diabetes</th>\n",
              "      <th>Hypertension</th>\n",
              "      <th>Infertility</th>\n",
              "      <th>stressLevel</th>\n",
              "    </tr>\n",
              "  </thead>\n",
              "  <tbody>\n",
              "    <tr>\n",
              "      <th>0</th>\n",
              "      <td>1</td>\n",
              "      <td>1</td>\n",
              "      <td>0</td>\n",
              "      <td>28</td>\n",
              "      <td>44.6</td>\n",
              "      <td>152.0</td>\n",
              "      <td>19.300000</td>\n",
              "      <td>15</td>\n",
              "      <td>78</td>\n",
              "      <td>22</td>\n",
              "      <td>...</td>\n",
              "      <td>3</td>\n",
              "      <td>3</td>\n",
              "      <td>18.0</td>\n",
              "      <td>18.0</td>\n",
              "      <td>8.5</td>\n",
              "      <td>NaN</td>\n",
              "      <td>0</td>\n",
              "      <td>0</td>\n",
              "      <td>0</td>\n",
              "      <td>1</td>\n",
              "    </tr>\n",
              "    <tr>\n",
              "      <th>1</th>\n",
              "      <td>2</td>\n",
              "      <td>2</td>\n",
              "      <td>0</td>\n",
              "      <td>36</td>\n",
              "      <td>65.0</td>\n",
              "      <td>161.5</td>\n",
              "      <td>24.921163</td>\n",
              "      <td>15</td>\n",
              "      <td>74</td>\n",
              "      <td>20</td>\n",
              "      <td>...</td>\n",
              "      <td>3</td>\n",
              "      <td>5</td>\n",
              "      <td>15.0</td>\n",
              "      <td>14.0</td>\n",
              "      <td>3.7</td>\n",
              "      <td>NaN</td>\n",
              "      <td>0</td>\n",
              "      <td>0</td>\n",
              "      <td>0</td>\n",
              "      <td>2</td>\n",
              "    </tr>\n",
              "    <tr>\n",
              "      <th>2</th>\n",
              "      <td>3</td>\n",
              "      <td>3</td>\n",
              "      <td>1</td>\n",
              "      <td>33</td>\n",
              "      <td>68.8</td>\n",
              "      <td>165.0</td>\n",
              "      <td>25.270891</td>\n",
              "      <td>11</td>\n",
              "      <td>72</td>\n",
              "      <td>18</td>\n",
              "      <td>...</td>\n",
              "      <td>13</td>\n",
              "      <td>15</td>\n",
              "      <td>18.0</td>\n",
              "      <td>20.0</td>\n",
              "      <td>10.0</td>\n",
              "      <td>NaN</td>\n",
              "      <td>1</td>\n",
              "      <td>1</td>\n",
              "      <td>0</td>\n",
              "      <td>3</td>\n",
              "    </tr>\n",
              "    <tr>\n",
              "      <th>3</th>\n",
              "      <td>4</td>\n",
              "      <td>4</td>\n",
              "      <td>0</td>\n",
              "      <td>37</td>\n",
              "      <td>65.0</td>\n",
              "      <td>148.0</td>\n",
              "      <td>29.674945</td>\n",
              "      <td>13</td>\n",
              "      <td>72</td>\n",
              "      <td>20</td>\n",
              "      <td>...</td>\n",
              "      <td>2</td>\n",
              "      <td>2</td>\n",
              "      <td>15.0</td>\n",
              "      <td>14.0</td>\n",
              "      <td>7.5</td>\n",
              "      <td>NaN</td>\n",
              "      <td>0</td>\n",
              "      <td>0</td>\n",
              "      <td>0</td>\n",
              "      <td>2</td>\n",
              "    </tr>\n",
              "    <tr>\n",
              "      <th>4</th>\n",
              "      <td>5</td>\n",
              "      <td>5</td>\n",
              "      <td>0</td>\n",
              "      <td>25</td>\n",
              "      <td>52.0</td>\n",
              "      <td>161.0</td>\n",
              "      <td>20.060954</td>\n",
              "      <td>11</td>\n",
              "      <td>72</td>\n",
              "      <td>18</td>\n",
              "      <td>...</td>\n",
              "      <td>3</td>\n",
              "      <td>4</td>\n",
              "      <td>16.0</td>\n",
              "      <td>14.0</td>\n",
              "      <td>7.0</td>\n",
              "      <td>NaN</td>\n",
              "      <td>0</td>\n",
              "      <td>0</td>\n",
              "      <td>0</td>\n",
              "      <td>2</td>\n",
              "    </tr>\n",
              "  </tbody>\n",
              "</table>\n",
              "<p>5 rows × 46 columns</p>\n",
              "</div>\n",
              "    <div class=\"colab-df-buttons\">\n",
              "\n",
              "  <div class=\"colab-df-container\">\n",
              "    <button class=\"colab-df-convert\" onclick=\"convertToInteractive('df-815e7fa5-e796-494b-8d94-a13691c76b3a')\"\n",
              "            title=\"Convert this dataframe to an interactive table.\"\n",
              "            style=\"display:none;\">\n",
              "\n",
              "  <svg xmlns=\"http://www.w3.org/2000/svg\" height=\"24px\" viewBox=\"0 -960 960 960\">\n",
              "    <path d=\"M120-120v-720h720v720H120Zm60-500h600v-160H180v160Zm220 220h160v-160H400v160Zm0 220h160v-160H400v160ZM180-400h160v-160H180v160Zm440 0h160v-160H620v160ZM180-180h160v-160H180v160Zm440 0h160v-160H620v160Z\"/>\n",
              "  </svg>\n",
              "    </button>\n",
              "\n",
              "  <style>\n",
              "    .colab-df-container {\n",
              "      display:flex;\n",
              "      gap: 12px;\n",
              "    }\n",
              "\n",
              "    .colab-df-convert {\n",
              "      background-color: #E8F0FE;\n",
              "      border: none;\n",
              "      border-radius: 50%;\n",
              "      cursor: pointer;\n",
              "      display: none;\n",
              "      fill: #1967D2;\n",
              "      height: 32px;\n",
              "      padding: 0 0 0 0;\n",
              "      width: 32px;\n",
              "    }\n",
              "\n",
              "    .colab-df-convert:hover {\n",
              "      background-color: #E2EBFA;\n",
              "      box-shadow: 0px 1px 2px rgba(60, 64, 67, 0.3), 0px 1px 3px 1px rgba(60, 64, 67, 0.15);\n",
              "      fill: #174EA6;\n",
              "    }\n",
              "\n",
              "    .colab-df-buttons div {\n",
              "      margin-bottom: 4px;\n",
              "    }\n",
              "\n",
              "    [theme=dark] .colab-df-convert {\n",
              "      background-color: #3B4455;\n",
              "      fill: #D2E3FC;\n",
              "    }\n",
              "\n",
              "    [theme=dark] .colab-df-convert:hover {\n",
              "      background-color: #434B5C;\n",
              "      box-shadow: 0px 1px 3px 1px rgba(0, 0, 0, 0.15);\n",
              "      filter: drop-shadow(0px 1px 2px rgba(0, 0, 0, 0.3));\n",
              "      fill: #FFFFFF;\n",
              "    }\n",
              "  </style>\n",
              "\n",
              "    <script>\n",
              "      const buttonEl =\n",
              "        document.querySelector('#df-815e7fa5-e796-494b-8d94-a13691c76b3a button.colab-df-convert');\n",
              "      buttonEl.style.display =\n",
              "        google.colab.kernel.accessAllowed ? 'block' : 'none';\n",
              "\n",
              "      async function convertToInteractive(key) {\n",
              "        const element = document.querySelector('#df-815e7fa5-e796-494b-8d94-a13691c76b3a');\n",
              "        const dataTable =\n",
              "          await google.colab.kernel.invokeFunction('convertToInteractive',\n",
              "                                                    [key], {});\n",
              "        if (!dataTable) return;\n",
              "\n",
              "        const docLinkHtml = 'Like what you see? Visit the ' +\n",
              "          '<a target=\"_blank\" href=https://colab.research.google.com/notebooks/data_table.ipynb>data table notebook</a>'\n",
              "          + ' to learn more about interactive tables.';\n",
              "        element.innerHTML = '';\n",
              "        dataTable['output_type'] = 'display_data';\n",
              "        await google.colab.output.renderOutput(dataTable, element);\n",
              "        const docLink = document.createElement('div');\n",
              "        docLink.innerHTML = docLinkHtml;\n",
              "        element.appendChild(docLink);\n",
              "      }\n",
              "    </script>\n",
              "  </div>\n",
              "\n",
              "\n",
              "<div id=\"df-ab1e0985-b73f-45b7-82b4-a7e48b144e2c\">\n",
              "  <button class=\"colab-df-quickchart\" onclick=\"quickchart('df-ab1e0985-b73f-45b7-82b4-a7e48b144e2c')\"\n",
              "            title=\"Suggest charts\"\n",
              "            style=\"display:none;\">\n",
              "\n",
              "<svg xmlns=\"http://www.w3.org/2000/svg\" height=\"24px\"viewBox=\"0 0 24 24\"\n",
              "     width=\"24px\">\n",
              "    <g>\n",
              "        <path d=\"M19 3H5c-1.1 0-2 .9-2 2v14c0 1.1.9 2 2 2h14c1.1 0 2-.9 2-2V5c0-1.1-.9-2-2-2zM9 17H7v-7h2v7zm4 0h-2V7h2v10zm4 0h-2v-4h2v4z\"/>\n",
              "    </g>\n",
              "</svg>\n",
              "  </button>\n",
              "\n",
              "<style>\n",
              "  .colab-df-quickchart {\n",
              "      --bg-color: #E8F0FE;\n",
              "      --fill-color: #1967D2;\n",
              "      --hover-bg-color: #E2EBFA;\n",
              "      --hover-fill-color: #174EA6;\n",
              "      --disabled-fill-color: #AAA;\n",
              "      --disabled-bg-color: #DDD;\n",
              "  }\n",
              "\n",
              "  [theme=dark] .colab-df-quickchart {\n",
              "      --bg-color: #3B4455;\n",
              "      --fill-color: #D2E3FC;\n",
              "      --hover-bg-color: #434B5C;\n",
              "      --hover-fill-color: #FFFFFF;\n",
              "      --disabled-bg-color: #3B4455;\n",
              "      --disabled-fill-color: #666;\n",
              "  }\n",
              "\n",
              "  .colab-df-quickchart {\n",
              "    background-color: var(--bg-color);\n",
              "    border: none;\n",
              "    border-radius: 50%;\n",
              "    cursor: pointer;\n",
              "    display: none;\n",
              "    fill: var(--fill-color);\n",
              "    height: 32px;\n",
              "    padding: 0;\n",
              "    width: 32px;\n",
              "  }\n",
              "\n",
              "  .colab-df-quickchart:hover {\n",
              "    background-color: var(--hover-bg-color);\n",
              "    box-shadow: 0 1px 2px rgba(60, 64, 67, 0.3), 0 1px 3px 1px rgba(60, 64, 67, 0.15);\n",
              "    fill: var(--button-hover-fill-color);\n",
              "  }\n",
              "\n",
              "  .colab-df-quickchart-complete:disabled,\n",
              "  .colab-df-quickchart-complete:disabled:hover {\n",
              "    background-color: var(--disabled-bg-color);\n",
              "    fill: var(--disabled-fill-color);\n",
              "    box-shadow: none;\n",
              "  }\n",
              "\n",
              "  .colab-df-spinner {\n",
              "    border: 2px solid var(--fill-color);\n",
              "    border-color: transparent;\n",
              "    border-bottom-color: var(--fill-color);\n",
              "    animation:\n",
              "      spin 1s steps(1) infinite;\n",
              "  }\n",
              "\n",
              "  @keyframes spin {\n",
              "    0% {\n",
              "      border-color: transparent;\n",
              "      border-bottom-color: var(--fill-color);\n",
              "      border-left-color: var(--fill-color);\n",
              "    }\n",
              "    20% {\n",
              "      border-color: transparent;\n",
              "      border-left-color: var(--fill-color);\n",
              "      border-top-color: var(--fill-color);\n",
              "    }\n",
              "    30% {\n",
              "      border-color: transparent;\n",
              "      border-left-color: var(--fill-color);\n",
              "      border-top-color: var(--fill-color);\n",
              "      border-right-color: var(--fill-color);\n",
              "    }\n",
              "    40% {\n",
              "      border-color: transparent;\n",
              "      border-right-color: var(--fill-color);\n",
              "      border-top-color: var(--fill-color);\n",
              "    }\n",
              "    60% {\n",
              "      border-color: transparent;\n",
              "      border-right-color: var(--fill-color);\n",
              "    }\n",
              "    80% {\n",
              "      border-color: transparent;\n",
              "      border-right-color: var(--fill-color);\n",
              "      border-bottom-color: var(--fill-color);\n",
              "    }\n",
              "    90% {\n",
              "      border-color: transparent;\n",
              "      border-bottom-color: var(--fill-color);\n",
              "    }\n",
              "  }\n",
              "</style>\n",
              "\n",
              "  <script>\n",
              "    async function quickchart(key) {\n",
              "      const quickchartButtonEl =\n",
              "        document.querySelector('#' + key + ' button');\n",
              "      quickchartButtonEl.disabled = true;  // To prevent multiple clicks.\n",
              "      quickchartButtonEl.classList.add('colab-df-spinner');\n",
              "      try {\n",
              "        const charts = await google.colab.kernel.invokeFunction(\n",
              "            'suggestCharts', [key], {});\n",
              "      } catch (error) {\n",
              "        console.error('Error during call to suggestCharts:', error);\n",
              "      }\n",
              "      quickchartButtonEl.classList.remove('colab-df-spinner');\n",
              "      quickchartButtonEl.classList.add('colab-df-quickchart-complete');\n",
              "    }\n",
              "    (() => {\n",
              "      let quickchartButtonEl =\n",
              "        document.querySelector('#df-ab1e0985-b73f-45b7-82b4-a7e48b144e2c button');\n",
              "      quickchartButtonEl.style.display =\n",
              "        google.colab.kernel.accessAllowed ? 'block' : 'none';\n",
              "    })();\n",
              "  </script>\n",
              "</div>\n",
              "\n",
              "    </div>\n",
              "  </div>\n"
            ],
            "application/vnd.google.colaboratory.intrinsic+json": {
              "type": "dataframe",
              "variable_name": "pcos_df"
            }
          },
          "metadata": {},
          "execution_count": 16
        }
      ]
    },
    {
      "cell_type": "code",
      "source": [
        "pcos_df.isnull().sum()"
      ],
      "metadata": {
        "colab": {
          "base_uri": "https://localhost:8080/",
          "height": 1000
        },
        "id": "JksdJ4l1uXlo",
        "outputId": "d2ce5ea8-5a89-49d6-cdc5-94b66363a38d",
        "collapsed": true
      },
      "execution_count": 17,
      "outputs": [
        {
          "output_type": "execute_result",
          "data": {
            "text/plain": [
              "Sl. No                      0\n",
              "Patient File No.            0\n",
              "PCOS (Y/N)                  0\n",
              " Age (yrs)                  0\n",
              "Weight (Kg)                 0\n",
              "Height(Cm)                  0\n",
              "BMI                         0\n",
              "Blood Group                 0\n",
              "Pulse rate(bpm)             0\n",
              "RR (breaths/min)            0\n",
              "Hb(g/dl)                    0\n",
              "Cycle(R/I)                  0\n",
              "Cycle length(days)          0\n",
              "Marraige Status (Yrs)       1\n",
              "Pregnant(Y/N)               0\n",
              "No. of aborptions           0\n",
              "  I   beta-HCG(mIU/mL)      0\n",
              "II    beta-HCG(mIU/mL)      0\n",
              "Hip(inch)                   0\n",
              "Waist(inch)                 0\n",
              "Waist:Hip Ratio             0\n",
              "TSH (mIU/L)                 0\n",
              "AMH(ng/mL)                  0\n",
              "PRL(ng/mL)                  0\n",
              "Vit D3 (ng/mL)              0\n",
              "PRG(ng/mL)                  0\n",
              "RBS(mg/dl)                  0\n",
              "Weight gain(Y/N)            0\n",
              "hair growth(Y/N)            0\n",
              "Skin darkening (Y/N)        0\n",
              "Hair loss(Y/N)              0\n",
              "Pimples(Y/N)                0\n",
              "Fast food (Y/N)             1\n",
              "Reg.Exercise(Y/N)           0\n",
              "BP _Systolic (mmHg)         0\n",
              "BP _Diastolic (mmHg)        0\n",
              "Follicle No. (L)            0\n",
              "Follicle No. (R)            0\n",
              "Avg. F size (L) (mm)        0\n",
              "Avg. F size (R) (mm)        0\n",
              "Endometrium (mm)            0\n",
              "Unnamed: 41               539\n",
              "Diabetes                    0\n",
              "Hypertension                0\n",
              "Infertility                 0\n",
              "stressLevel                 0\n",
              "dtype: int64"
            ],
            "text/html": [
              "<div>\n",
              "<style scoped>\n",
              "    .dataframe tbody tr th:only-of-type {\n",
              "        vertical-align: middle;\n",
              "    }\n",
              "\n",
              "    .dataframe tbody tr th {\n",
              "        vertical-align: top;\n",
              "    }\n",
              "\n",
              "    .dataframe thead th {\n",
              "        text-align: right;\n",
              "    }\n",
              "</style>\n",
              "<table border=\"1\" class=\"dataframe\">\n",
              "  <thead>\n",
              "    <tr style=\"text-align: right;\">\n",
              "      <th></th>\n",
              "      <th>0</th>\n",
              "    </tr>\n",
              "  </thead>\n",
              "  <tbody>\n",
              "    <tr>\n",
              "      <th>Sl. No</th>\n",
              "      <td>0</td>\n",
              "    </tr>\n",
              "    <tr>\n",
              "      <th>Patient File No.</th>\n",
              "      <td>0</td>\n",
              "    </tr>\n",
              "    <tr>\n",
              "      <th>PCOS (Y/N)</th>\n",
              "      <td>0</td>\n",
              "    </tr>\n",
              "    <tr>\n",
              "      <th>Age (yrs)</th>\n",
              "      <td>0</td>\n",
              "    </tr>\n",
              "    <tr>\n",
              "      <th>Weight (Kg)</th>\n",
              "      <td>0</td>\n",
              "    </tr>\n",
              "    <tr>\n",
              "      <th>Height(Cm)</th>\n",
              "      <td>0</td>\n",
              "    </tr>\n",
              "    <tr>\n",
              "      <th>BMI</th>\n",
              "      <td>0</td>\n",
              "    </tr>\n",
              "    <tr>\n",
              "      <th>Blood Group</th>\n",
              "      <td>0</td>\n",
              "    </tr>\n",
              "    <tr>\n",
              "      <th>Pulse rate(bpm)</th>\n",
              "      <td>0</td>\n",
              "    </tr>\n",
              "    <tr>\n",
              "      <th>RR (breaths/min)</th>\n",
              "      <td>0</td>\n",
              "    </tr>\n",
              "    <tr>\n",
              "      <th>Hb(g/dl)</th>\n",
              "      <td>0</td>\n",
              "    </tr>\n",
              "    <tr>\n",
              "      <th>Cycle(R/I)</th>\n",
              "      <td>0</td>\n",
              "    </tr>\n",
              "    <tr>\n",
              "      <th>Cycle length(days)</th>\n",
              "      <td>0</td>\n",
              "    </tr>\n",
              "    <tr>\n",
              "      <th>Marraige Status (Yrs)</th>\n",
              "      <td>1</td>\n",
              "    </tr>\n",
              "    <tr>\n",
              "      <th>Pregnant(Y/N)</th>\n",
              "      <td>0</td>\n",
              "    </tr>\n",
              "    <tr>\n",
              "      <th>No. of aborptions</th>\n",
              "      <td>0</td>\n",
              "    </tr>\n",
              "    <tr>\n",
              "      <th>I   beta-HCG(mIU/mL)</th>\n",
              "      <td>0</td>\n",
              "    </tr>\n",
              "    <tr>\n",
              "      <th>II    beta-HCG(mIU/mL)</th>\n",
              "      <td>0</td>\n",
              "    </tr>\n",
              "    <tr>\n",
              "      <th>Hip(inch)</th>\n",
              "      <td>0</td>\n",
              "    </tr>\n",
              "    <tr>\n",
              "      <th>Waist(inch)</th>\n",
              "      <td>0</td>\n",
              "    </tr>\n",
              "    <tr>\n",
              "      <th>Waist:Hip Ratio</th>\n",
              "      <td>0</td>\n",
              "    </tr>\n",
              "    <tr>\n",
              "      <th>TSH (mIU/L)</th>\n",
              "      <td>0</td>\n",
              "    </tr>\n",
              "    <tr>\n",
              "      <th>AMH(ng/mL)</th>\n",
              "      <td>0</td>\n",
              "    </tr>\n",
              "    <tr>\n",
              "      <th>PRL(ng/mL)</th>\n",
              "      <td>0</td>\n",
              "    </tr>\n",
              "    <tr>\n",
              "      <th>Vit D3 (ng/mL)</th>\n",
              "      <td>0</td>\n",
              "    </tr>\n",
              "    <tr>\n",
              "      <th>PRG(ng/mL)</th>\n",
              "      <td>0</td>\n",
              "    </tr>\n",
              "    <tr>\n",
              "      <th>RBS(mg/dl)</th>\n",
              "      <td>0</td>\n",
              "    </tr>\n",
              "    <tr>\n",
              "      <th>Weight gain(Y/N)</th>\n",
              "      <td>0</td>\n",
              "    </tr>\n",
              "    <tr>\n",
              "      <th>hair growth(Y/N)</th>\n",
              "      <td>0</td>\n",
              "    </tr>\n",
              "    <tr>\n",
              "      <th>Skin darkening (Y/N)</th>\n",
              "      <td>0</td>\n",
              "    </tr>\n",
              "    <tr>\n",
              "      <th>Hair loss(Y/N)</th>\n",
              "      <td>0</td>\n",
              "    </tr>\n",
              "    <tr>\n",
              "      <th>Pimples(Y/N)</th>\n",
              "      <td>0</td>\n",
              "    </tr>\n",
              "    <tr>\n",
              "      <th>Fast food (Y/N)</th>\n",
              "      <td>1</td>\n",
              "    </tr>\n",
              "    <tr>\n",
              "      <th>Reg.Exercise(Y/N)</th>\n",
              "      <td>0</td>\n",
              "    </tr>\n",
              "    <tr>\n",
              "      <th>BP _Systolic (mmHg)</th>\n",
              "      <td>0</td>\n",
              "    </tr>\n",
              "    <tr>\n",
              "      <th>BP _Diastolic (mmHg)</th>\n",
              "      <td>0</td>\n",
              "    </tr>\n",
              "    <tr>\n",
              "      <th>Follicle No. (L)</th>\n",
              "      <td>0</td>\n",
              "    </tr>\n",
              "    <tr>\n",
              "      <th>Follicle No. (R)</th>\n",
              "      <td>0</td>\n",
              "    </tr>\n",
              "    <tr>\n",
              "      <th>Avg. F size (L) (mm)</th>\n",
              "      <td>0</td>\n",
              "    </tr>\n",
              "    <tr>\n",
              "      <th>Avg. F size (R) (mm)</th>\n",
              "      <td>0</td>\n",
              "    </tr>\n",
              "    <tr>\n",
              "      <th>Endometrium (mm)</th>\n",
              "      <td>0</td>\n",
              "    </tr>\n",
              "    <tr>\n",
              "      <th>Unnamed: 41</th>\n",
              "      <td>539</td>\n",
              "    </tr>\n",
              "    <tr>\n",
              "      <th>Diabetes</th>\n",
              "      <td>0</td>\n",
              "    </tr>\n",
              "    <tr>\n",
              "      <th>Hypertension</th>\n",
              "      <td>0</td>\n",
              "    </tr>\n",
              "    <tr>\n",
              "      <th>Infertility</th>\n",
              "      <td>0</td>\n",
              "    </tr>\n",
              "    <tr>\n",
              "      <th>stressLevel</th>\n",
              "      <td>0</td>\n",
              "    </tr>\n",
              "  </tbody>\n",
              "</table>\n",
              "</div><br><label><b>dtype:</b> int64</label>"
            ]
          },
          "metadata": {},
          "execution_count": 17
        }
      ]
    },
    {
      "cell_type": "code",
      "source": [
        "pcos_df['Marraige Status (Yrs)'] = pcos_df['Marraige Status (Yrs)'].fillna(pcos_df['Marraige Status (Yrs)'].mean())\n",
        "pcos_df['Fast food (Y/N)'] = pcos_df['Fast food (Y/N)'].fillna(pcos_df['Fast food (Y/N)'].mean())"
      ],
      "metadata": {
        "id": "VynnhZp21HJT"
      },
      "execution_count": 18,
      "outputs": []
    },
    {
      "cell_type": "code",
      "source": [
        "clinical_features = pcos_df.drop(columns=['PCOS (Y/N)', 'Patient File No.', 'Sl. No', 'Unnamed: 41', 'stressLevel'])\n",
        "clinical_labels = pcos_df['PCOS (Y/N)'].values"
      ],
      "metadata": {
        "id": "sE1Slsn6uxLM"
      },
      "execution_count": 19,
      "outputs": []
    },
    {
      "cell_type": "code",
      "source": [
        "non_numeric_columns = clinical_features.select_dtypes(include=['object']).columns\n",
        "print(\"Non-numeric columns:\", non_numeric_columns)"
      ],
      "metadata": {
        "colab": {
          "base_uri": "https://localhost:8080/"
        },
        "id": "yN66BjcOvI5E",
        "outputId": "392256d3-06ea-4c51-d87b-209b646a42be"
      },
      "execution_count": 20,
      "outputs": [
        {
          "output_type": "stream",
          "name": "stdout",
          "text": [
            "Non-numeric columns: Index(['AMH(ng/mL)'], dtype='object')\n"
          ]
        }
      ]
    },
    {
      "cell_type": "code",
      "source": [
        "print(clinical_features['AMH(ng/mL)'].unique())\n",
        "\n",
        "clinical_features['AMH(ng/mL)'] = pd.to_numeric(clinical_features['AMH(ng/mL)'], errors='coerce')\n",
        "\n",
        "print(clinical_features['AMH(ng/mL)'].isna().sum())"
      ],
      "metadata": {
        "colab": {
          "base_uri": "https://localhost:8080/"
        },
        "id": "PN4Ifip2wZ1O",
        "outputId": "9e636025-480c-4676-c874-2f04346144cd"
      },
      "execution_count": 21,
      "outputs": [
        {
          "output_type": "stream",
          "name": "stdout",
          "text": [
            "['2.07' '1.53' '6.63' '1.22' '2.26' '6.74' '3.05' '1.54' '1' '1.61' '4.47'\n",
            " '1.67' '7.94' '2.38' '0.88' '0.69' '3.78' '1.92' '2.85' '2.13' '4.13'\n",
            " '2.5' '1.89' '0.26' '3.84' '3.56' '1.56' '1.69' '2.34' '1.58' '2.36'\n",
            " '3.64' '2.78' '0.33' '2.35' '3.88' '3.55' '4.33' '3.66' '4.5' '3.2' '2.1'\n",
            " '6.55' '1.2' '2.33' '3.22' '2.333' '2.31' '4.2' '3.21' '2.14' '2.3' '4.6'\n",
            " '5.8' '5.2' '4.63' '1.01' '2.58' '0.35' '5.23' '3.68' '2.55' '4.91'\n",
            " '1.03' '6.56' '3.91' '5.42' '1.65' '2.06' '1.81' '3.81' '3.65' '8.98'\n",
            " '1.7' '3.18' '2.75' '0.86' '2.29' '2.19' '8.46' '4.59' '1.04' '4.27'\n",
            " '3.86' '1.42' '10.07' '0.98' '4.07' '3.9' '10' '16.9' '17' '21.9' '1.6'\n",
            " '3.3' '21' '12.7' '1.8' '3.6' '15' '5' '17.9' '19.8' '9.2' '2.4' '5.14'\n",
            " '0.3' '11.48' '19.3' '8.8' '19' '4.3' '1.4' '12.6' '4.8' '17.1' '11.6'\n",
            " '18.4' '9.9' '3.7' '2.9' '2' '4' '15.9' '7.51' '10.04' '6.86' '7.02'\n",
            " '8.75' '5.27' '9' '3.41' '0.45' '2.53' '0.29' '2.6' '2.83' '2.01' '5.67'\n",
            " '1.68' '3.63' '3.49' '8' '10.25' '32' '3.38' '1.35' '5.78' '4.66' '1.99'\n",
            " '1.28' '3.99' '5.69' '7.81' '6.41' '5.76' '6.65' '4.15' '1.86' '2.04'\n",
            " '7.25' '1.91' '5.61' '3.02' '5.25' '7' '3.17' '5.57' '4.57' '0.37' '26.4'\n",
            " '5.96' '9.1' '6.6' '22' '1.9' '17.6' '1.1' '7.8' '7.7' '9.7' '0.2' '12'\n",
            " '16.7' '13.6' '16.8' '3.5' '1.3' '3.14' '1.25' '7.3' '7.2' '3.29' '2.69'\n",
            " '4.1' '6.2' '14.6' '4.71' '11.1' '1.5' '2.25' '6.8' '0.8' '7.21' '0.9'\n",
            " '8.5' '66' '26.8' '1.15' '0.16' '8.1' '0.56' '5.3' '6.5' '15.3' '10.6'\n",
            " '4.7' '5.4' '17.5' '6' '21.8' '18.5' '12.4' '10.8' '18.7' '18' '0.28' 'a'\n",
            " '3' '1.06' '2.23' '3.33' '2.65' '11' '5.7' '6.33' '2.2' '15.7' '2.17'\n",
            " '14.7' '2.8' '5.9' '8.9' '20.4' '9.8' '10.7' '3.09' '10.9' '6.4' '5.1'\n",
            " '3.1' '5.6' '7.9' '18.9' '11.4' '3.8' '1.14' '28.6' '5.5' '0.5' '3.4'\n",
            " '2.28' '11.9' '6.9' '0.1' '12.8' '2.7' '0.84' '20' '10.3' '10.2' '0.6'\n",
            " '0.91' '0.89' '0.87' '0.7' '0.85' '0.78' '16' '0.74' '0.99' '4.02' '6.09'\n",
            " '0.71' '3.62' '1.97' '3.03' '5.75' '6.26' '0.72' '10.53' '10.32' '2.39'\n",
            " '4.9' '11.2' '16.6' '0.19' '6.3' '19.6' '18.2' '7.6']\n",
            "1\n"
          ]
        }
      ]
    },
    {
      "cell_type": "code",
      "source": [
        "# Replace non-numeric values with NaN\n",
        "clinical_features['AMH(ng/mL)'] = pd.to_numeric(clinical_features['AMH(ng/mL)'], errors='coerce')\n",
        "\n",
        "# Check if there are any remaining NaN values after the replacement\n",
        "print(clinical_features['AMH(ng/mL)'].isna().sum())"
      ],
      "metadata": {
        "colab": {
          "base_uri": "https://localhost:8080/"
        },
        "id": "BWKL2ZYXwt3d",
        "outputId": "101eca39-9a2a-4401-e6a8-e429a24921f9"
      },
      "execution_count": 22,
      "outputs": [
        {
          "output_type": "stream",
          "name": "stdout",
          "text": [
            "1\n"
          ]
        }
      ]
    },
    {
      "cell_type": "code",
      "source": [
        "clinical_features['AMH(ng/mL)'].fillna(clinical_features['AMH(ng/mL)'].mean(), inplace=True)"
      ],
      "metadata": {
        "id": "JsT4_GKIwyJ2"
      },
      "execution_count": 23,
      "outputs": []
    },
    {
      "cell_type": "code",
      "source": [
        "print(clinical_features['AMH(ng/mL)'].isna().sum())"
      ],
      "metadata": {
        "colab": {
          "base_uri": "https://localhost:8080/"
        },
        "id": "klJI_QJ8w2Kg",
        "outputId": "770d9cb4-2ab6-4349-8202-8b66a881a550"
      },
      "execution_count": 24,
      "outputs": [
        {
          "output_type": "stream",
          "name": "stdout",
          "text": [
            "0\n"
          ]
        }
      ]
    },
    {
      "cell_type": "code",
      "source": [
        "from sklearn.utils import resample\n",
        "import numpy as np\n",
        "\n",
        "def balance_and_sort_datasets(clinical_features, clinical_labels, ultrasound_images, ultrasound_labels):\n",
        "    # Separate clinical features and labels by class (class 0 and class 1)\n",
        "    class_0_indices_clinical = np.where(clinical_labels == 0)[0]\n",
        "    class_1_indices_clinical = np.where(clinical_labels == 1)[0]\n",
        "\n",
        "    if isinstance(clinical_features, pd.DataFrame):\n",
        "        clinical_features_class_0 = clinical_features.iloc[class_0_indices_clinical]\n",
        "        clinical_features_class_1 = clinical_features.iloc[class_1_indices_clinical]\n",
        "    else:\n",
        "        # Use regular indexing for NumPy arrays\n",
        "        clinical_features_class_0 = clinical_features[class_0_indices_clinical]\n",
        "        clinical_features_class_1 = clinical_features[class_1_indices_clinical]\n",
        "\n",
        "    # Use [] for NumPy arrays\n",
        "    clinical_labels_class_0 = clinical_labels[class_0_indices_clinical]\n",
        "    clinical_labels_class_1 = clinical_labels[class_1_indices_clinical]\n",
        "\n",
        "    # class_0_clinical = clinical_features[class_0_indices_clinical]\n",
        "    # class_1_clinical = clinical_features[class_1_indices_clinical]\n",
        "    # class_0_labels_clinical = clinical_labels[class_0_indices_clinical]\n",
        "    # class_1_labels_clinical = clinical_labels[class_1_indices_clinical]\n",
        "\n",
        "    # Upsample clinical data to match the size of ultrasound data (1987 samples total)\n",
        "    target_samples = 1987\n",
        "\n",
        "    class_0_clinical_resampled = resample(clinical_features_class_0, replace=True, n_samples=target_samples // 2, random_state=42)\n",
        "    class_1_clinical_resampled = resample(clinical_features_class_1, replace=True, n_samples=target_samples // 2, random_state=42)\n",
        "\n",
        "    class_0_labels_resampled = resample(clinical_labels_class_0, replace=True, n_samples=target_samples // 2, random_state=42)\n",
        "    class_1_labels_resampled = resample(clinical_labels_class_1, replace=True, n_samples=target_samples // 2, random_state=42)\n",
        "\n",
        "    # Combine the balanced clinical features and labels\n",
        "    balanced_clinical_features = np.vstack((class_0_clinical_resampled, class_1_clinical_resampled))\n",
        "    balanced_clinical_labels = np.hstack((class_0_labels_resampled, class_1_labels_resampled))\n",
        "\n",
        "    # Separate ultrasound features and labels by class (no change in total size)\n",
        "    class_0_indices_ultrasound = np.where(ultrasound_labels == 0)[0]\n",
        "    class_1_indices_ultrasound = np.where(ultrasound_labels == 1)[0]\n",
        "\n",
        "    class_0_ultrasound = ultrasound_images[class_0_indices_ultrasound]\n",
        "    class_1_ultrasound = ultrasound_images[class_1_indices_ultrasound]\n",
        "    class_0_labels_ultrasound = ultrasound_labels[class_0_indices_ultrasound]\n",
        "    class_1_labels_ultrasound = ultrasound_labels[class_1_indices_ultrasound]\n",
        "\n",
        "    # No need to resample the ultrasound data, just balance the classes within the 1987 samples\n",
        "    class_0_ultrasound_resampled = resample(class_0_ultrasound, replace=True, n_samples=target_samples // 2, random_state=42)\n",
        "    class_1_ultrasound_resampled = resample(class_1_ultrasound, replace=True, n_samples=target_samples // 2, random_state=42)\n",
        "\n",
        "    class_0_labels_resampled = resample(class_0_labels_ultrasound, replace=True, n_samples=target_samples // 2, random_state=42)\n",
        "    class_1_labels_resampled = resample(class_1_labels_ultrasound, replace=True, n_samples=target_samples // 2, random_state=42)\n",
        "\n",
        "    # Combine the balanced ultrasound features and labels\n",
        "    balanced_ultrasound_images = np.vstack((class_0_ultrasound_resampled, class_1_ultrasound_resampled))\n",
        "    balanced_ultrasound_labels = np.hstack((class_0_labels_resampled, class_1_labels_resampled))\n",
        "\n",
        "    # Sort datasets based on the labels to align the indexes\n",
        "    sorted_clinical_indices = np.argsort(balanced_clinical_labels)\n",
        "    sorted_ultrasound_indices = np.argsort(balanced_ultrasound_labels)\n",
        "\n",
        "    sorted_clinical_features = balanced_clinical_features[sorted_clinical_indices]\n",
        "    sorted_clinical_labels = balanced_clinical_labels[sorted_clinical_indices]\n",
        "\n",
        "    sorted_ultrasound_images = balanced_ultrasound_images[sorted_ultrasound_indices]\n",
        "    sorted_ultrasound_labels = balanced_ultrasound_labels[sorted_ultrasound_indices]\n",
        "\n",
        "    return sorted_clinical_features, sorted_clinical_labels, sorted_ultrasound_images, sorted_ultrasound_labels"
      ],
      "metadata": {
        "id": "O-wsl__v-RPO"
      },
      "execution_count": 25,
      "outputs": []
    },
    {
      "cell_type": "code",
      "source": [
        "sorted_clinical_features, sorted_clinical_labels, sorted_ultrasound_images, sorted_ultrasound_labels = balance_and_sort_datasets(clinical_features, clinical_labels, ultrasound_images, ultrasound_labels)"
      ],
      "metadata": {
        "id": "bMkzQUsx9fbm"
      },
      "execution_count": 26,
      "outputs": []
    },
    {
      "cell_type": "code",
      "source": [
        "from sklearn.preprocessing import StandardScaler"
      ],
      "metadata": {
        "id": "8dUjcMt9uoqy"
      },
      "execution_count": 27,
      "outputs": []
    },
    {
      "cell_type": "code",
      "source": [
        "scaler = StandardScaler()\n",
        "sorted_clinical_features = scaler.fit_transform(sorted_clinical_features)\n",
        "\n",
        "print(sorted_clinical_features.shape, sorted_clinical_labels.shape)"
      ],
      "metadata": {
        "colab": {
          "base_uri": "https://localhost:8080/"
        },
        "id": "GjVFxFA_u3_Z",
        "outputId": "4a1389f9-95ac-472b-d17e-6618c8f64e6b"
      },
      "execution_count": 28,
      "outputs": [
        {
          "output_type": "stream",
          "name": "stdout",
          "text": [
            "(1986, 41) (1986,)\n"
          ]
        }
      ]
    },
    {
      "cell_type": "markdown",
      "source": [
        "#### Train Test Split"
      ],
      "metadata": {
        "id": "dqXiOrj40AOF"
      }
    },
    {
      "cell_type": "code",
      "source": [
        "from sklearn.model_selection import train_test_split"
      ],
      "metadata": {
        "id": "DtIUtJSxyVNW"
      },
      "execution_count": 29,
      "outputs": []
    },
    {
      "cell_type": "code",
      "source": [
        "!pip install catboost"
      ],
      "metadata": {
        "colab": {
          "base_uri": "https://localhost:8080/"
        },
        "id": "iTd0K-bYnKi6",
        "outputId": "d1439476-b70c-49a2-b3cc-1cf2a8efeabc"
      },
      "execution_count": 30,
      "outputs": [
        {
          "output_type": "stream",
          "name": "stdout",
          "text": [
            "Collecting catboost\n",
            "  Downloading catboost-1.2.7-cp310-cp310-manylinux2014_x86_64.whl.metadata (1.2 kB)\n",
            "Requirement already satisfied: graphviz in /usr/local/lib/python3.10/dist-packages (from catboost) (0.20.3)\n",
            "Requirement already satisfied: matplotlib in /usr/local/lib/python3.10/dist-packages (from catboost) (3.7.1)\n",
            "Requirement already satisfied: numpy<2.0,>=1.16.0 in /usr/local/lib/python3.10/dist-packages (from catboost) (1.26.4)\n",
            "Requirement already satisfied: pandas>=0.24 in /usr/local/lib/python3.10/dist-packages (from catboost) (2.1.4)\n",
            "Requirement already satisfied: scipy in /usr/local/lib/python3.10/dist-packages (from catboost) (1.13.1)\n",
            "Requirement already satisfied: plotly in /usr/local/lib/python3.10/dist-packages (from catboost) (5.15.0)\n",
            "Requirement already satisfied: six in /usr/local/lib/python3.10/dist-packages (from catboost) (1.16.0)\n",
            "Requirement already satisfied: python-dateutil>=2.8.2 in /usr/local/lib/python3.10/dist-packages (from pandas>=0.24->catboost) (2.8.2)\n",
            "Requirement already satisfied: pytz>=2020.1 in /usr/local/lib/python3.10/dist-packages (from pandas>=0.24->catboost) (2024.1)\n",
            "Requirement already satisfied: tzdata>=2022.1 in /usr/local/lib/python3.10/dist-packages (from pandas>=0.24->catboost) (2024.1)\n",
            "Requirement already satisfied: contourpy>=1.0.1 in /usr/local/lib/python3.10/dist-packages (from matplotlib->catboost) (1.3.0)\n",
            "Requirement already satisfied: cycler>=0.10 in /usr/local/lib/python3.10/dist-packages (from matplotlib->catboost) (0.12.1)\n",
            "Requirement already satisfied: fonttools>=4.22.0 in /usr/local/lib/python3.10/dist-packages (from matplotlib->catboost) (4.53.1)\n",
            "Requirement already satisfied: kiwisolver>=1.0.1 in /usr/local/lib/python3.10/dist-packages (from matplotlib->catboost) (1.4.7)\n",
            "Requirement already satisfied: packaging>=20.0 in /usr/local/lib/python3.10/dist-packages (from matplotlib->catboost) (24.1)\n",
            "Requirement already satisfied: pillow>=6.2.0 in /usr/local/lib/python3.10/dist-packages (from matplotlib->catboost) (9.4.0)\n",
            "Requirement already satisfied: pyparsing>=2.3.1 in /usr/local/lib/python3.10/dist-packages (from matplotlib->catboost) (3.1.4)\n",
            "Requirement already satisfied: tenacity>=6.2.0 in /usr/local/lib/python3.10/dist-packages (from plotly->catboost) (9.0.0)\n",
            "Downloading catboost-1.2.7-cp310-cp310-manylinux2014_x86_64.whl (98.7 MB)\n",
            "\u001b[2K   \u001b[90m━━━━━━━━━━━━━━━━━━━━━━━━━━━━━━━━━━━━━━━━\u001b[0m \u001b[32m98.7/98.7 MB\u001b[0m \u001b[31m10.4 MB/s\u001b[0m eta \u001b[36m0:00:00\u001b[0m\n",
            "\u001b[?25hInstalling collected packages: catboost\n",
            "Successfully installed catboost-1.2.7\n"
          ]
        }
      ]
    },
    {
      "cell_type": "code",
      "source": [
        "# Defining inputs for both models\n",
        "\n",
        "# ultrasound_input = Input(shape=(256, 256, 3), name = 'ultrasound_input')   # Ultrasound Image input\n",
        "# catboost_input = Input(shape=(41,), name = 'catboost_input')               # Clinical data input"
      ],
      "metadata": {
        "id": "4RLdP2BdIgUX"
      },
      "execution_count": 31,
      "outputs": []
    },
    {
      "cell_type": "code",
      "source": [
        "from catboost import CatBoostClassifier\n",
        "catboost_model = CatBoostClassifier()\n",
        "catboost_model.load_model('/content/Clinical_Classification.cbm')"
      ],
      "metadata": {
        "colab": {
          "base_uri": "https://localhost:8080/"
        },
        "id": "oAyK0_LBHZJ0",
        "outputId": "024f05d0-223b-4160-8d62-3808a9c36304"
      },
      "execution_count": 32,
      "outputs": [
        {
          "output_type": "execute_result",
          "data": {
            "text/plain": [
              "<catboost.core.CatBoostClassifier at 0x7d50a9c51000>"
            ]
          },
          "metadata": {},
          "execution_count": 32
        }
      ]
    },
    {
      "cell_type": "code",
      "source": [
        "# getting features for catboost model\n",
        "\n",
        "catboost_features = catboost_model.predict_proba(sorted_clinical_features)[:, 1]\n",
        "catboost_features = catboost_features.reshape(-1, 1)                            # Reshape to (num_samples, 1)"
      ],
      "metadata": {
        "id": "sF7xY19iIU13"
      },
      "execution_count": 33,
      "outputs": []
    },
    {
      "cell_type": "code",
      "source": [
        "resnet_model = tf.keras.models.load_model('/content/Ultrasound_ResNet_50.keras')"
      ],
      "metadata": {
        "id": "9twyT9aWGxw3"
      },
      "execution_count": 34,
      "outputs": []
    },
    {
      "cell_type": "code",
      "source": [
        "for layer in resnet_model.layers[-10:]:  # Unfreezing the last 10 layers for fine-tuning\n",
        "    layer.trainable = True"
      ],
      "metadata": {
        "id": "80PCGATLjeNS"
      },
      "execution_count": 35,
      "outputs": []
    },
    {
      "cell_type": "code",
      "source": [
        "resnet_features = resnet_model.predict(sorted_ultrasound_images)\n",
        "resnet_features = resnet_features.reshape(resnet_features.shape[0], -1)"
      ],
      "metadata": {
        "id": "hOhjXjQfNRI_",
        "colab": {
          "base_uri": "https://localhost:8080/"
        },
        "outputId": "f273e29f-d16b-4de8-ba77-24f841c48422"
      },
      "execution_count": 36,
      "outputs": [
        {
          "output_type": "stream",
          "name": "stdout",
          "text": [
            "\u001b[1m63/63\u001b[0m \u001b[32m━━━━━━━━━━━━━━━━━━━━\u001b[0m\u001b[37m\u001b[0m \u001b[1m536s\u001b[0m 8s/step\n"
          ]
        }
      ]
    },
    {
      "cell_type": "code",
      "source": [
        "combined_features = np.hstack((resnet_features, catboost_features))"
      ],
      "metadata": {
        "id": "xbQNi74-UFv9"
      },
      "execution_count": 41,
      "outputs": []
    },
    {
      "cell_type": "code",
      "source": [
        "from sklearn.preprocessing import StandardScaler\n",
        "\n",
        "scaler = StandardScaler()\n",
        "combined_features = scaler.fit_transform(combined_features)"
      ],
      "metadata": {
        "id": "K-bG8cG9tNwY"
      },
      "execution_count": 42,
      "outputs": []
    },
    {
      "cell_type": "code",
      "source": [
        "labels = sorted_ultrasound_labels"
      ],
      "metadata": {
        "id": "1PloMpxcc7wA"
      },
      "execution_count": 43,
      "outputs": []
    },
    {
      "cell_type": "code",
      "source": [
        "print(f\"Combined features shape: {combined_features.shape}\")\n",
        "print(f\"Labels shape: {labels.shape}\")"
      ],
      "metadata": {
        "colab": {
          "base_uri": "https://localhost:8080/"
        },
        "id": "6BHGGCZdC06p",
        "outputId": "bb0d917e-bee2-4998-860e-6e0827a2a9cc"
      },
      "execution_count": 44,
      "outputs": [
        {
          "output_type": "stream",
          "name": "stdout",
          "text": [
            "Combined features shape: (1986, 2)\n",
            "Labels shape: (1986,)\n"
          ]
        }
      ]
    },
    {
      "cell_type": "code",
      "source": [
        "train_combined_features, test_combined_features, train_labels, test_labels = train_test_split(combined_features, labels, test_size=0.2, random_state=42)"
      ],
      "metadata": {
        "id": "p4je6-8jbr63"
      },
      "execution_count": 45,
      "outputs": []
    },
    {
      "cell_type": "markdown",
      "source": [
        "## Fusion Model"
      ],
      "metadata": {
        "id": "DWJBA57GdO_R"
      }
    },
    {
      "cell_type": "code",
      "source": [
        "from sklearn.model_selection import KFold\n",
        "from sklearn.metrics import confusion_matrix, accuracy_score"
      ],
      "metadata": {
        "id": "-GX3MVjtzPab"
      },
      "execution_count": 46,
      "outputs": []
    },
    {
      "cell_type": "code",
      "source": [
        "fusion_model = tf.keras.Sequential([\n",
        "    tf.keras.layers.InputLayer(input_shape=(train_combined_features.shape[1],)),\n",
        "    tf.keras.layers.Dense(64, activation='relu', kernel_regularizer=tf.keras.regularizers.l2(0.02)),\n",
        "    tf.keras.layers.Dropout(0.6),\n",
        "    tf.keras.layers.Dense(1, activation='sigmoid')\n",
        "])"
      ],
      "metadata": {
        "id": "gQ1-RiXDZA2l"
      },
      "execution_count": 47,
      "outputs": []
    },
    {
      "cell_type": "code",
      "source": [
        "fusion_model.compile(optimizer='adam', loss='binary_crossentropy', metrics = ['accuracy'])"
      ],
      "metadata": {
        "id": "Bu0TSzv3dXCZ"
      },
      "execution_count": 48,
      "outputs": []
    },
    {
      "cell_type": "code",
      "source": [
        "fusion_model.summary()"
      ],
      "metadata": {
        "colab": {
          "base_uri": "https://localhost:8080/",
          "height": 242
        },
        "id": "rUZ67gJ6n8eY",
        "outputId": "c951f12d-a3ed-4507-e75b-14ebe3dfc985",
        "collapsed": true
      },
      "execution_count": 49,
      "outputs": [
        {
          "output_type": "display_data",
          "data": {
            "text/plain": [
              "\u001b[1mModel: \"sequential\"\u001b[0m\n"
            ],
            "text/html": [
              "<pre style=\"white-space:pre;overflow-x:auto;line-height:normal;font-family:Menlo,'DejaVu Sans Mono',consolas,'Courier New',monospace\"><span style=\"font-weight: bold\">Model: \"sequential\"</span>\n",
              "</pre>\n"
            ]
          },
          "metadata": {}
        },
        {
          "output_type": "display_data",
          "data": {
            "text/plain": [
              "┏━━━━━━━━━━━━━━━━━━━━━━━━━━━━━━━━━━━━━━┳━━━━━━━━━━━━━━━━━━━━━━━━━━━━━┳━━━━━━━━━━━━━━━━━┓\n",
              "┃\u001b[1m \u001b[0m\u001b[1mLayer (type)                        \u001b[0m\u001b[1m \u001b[0m┃\u001b[1m \u001b[0m\u001b[1mOutput Shape               \u001b[0m\u001b[1m \u001b[0m┃\u001b[1m \u001b[0m\u001b[1m        Param #\u001b[0m\u001b[1m \u001b[0m┃\n",
              "┡━━━━━━━━━━━━━━━━━━━━━━━━━━━━━━━━━━━━━━╇━━━━━━━━━━━━━━━━━━━━━━━━━━━━━╇━━━━━━━━━━━━━━━━━┩\n",
              "│ dense (\u001b[38;5;33mDense\u001b[0m)                        │ (\u001b[38;5;45mNone\u001b[0m, \u001b[38;5;34m64\u001b[0m)                  │             \u001b[38;5;34m192\u001b[0m │\n",
              "├──────────────────────────────────────┼─────────────────────────────┼─────────────────┤\n",
              "│ dropout (\u001b[38;5;33mDropout\u001b[0m)                    │ (\u001b[38;5;45mNone\u001b[0m, \u001b[38;5;34m64\u001b[0m)                  │               \u001b[38;5;34m0\u001b[0m │\n",
              "├──────────────────────────────────────┼─────────────────────────────┼─────────────────┤\n",
              "│ dense_1 (\u001b[38;5;33mDense\u001b[0m)                      │ (\u001b[38;5;45mNone\u001b[0m, \u001b[38;5;34m1\u001b[0m)                   │              \u001b[38;5;34m65\u001b[0m │\n",
              "└──────────────────────────────────────┴─────────────────────────────┴─────────────────┘\n"
            ],
            "text/html": [
              "<pre style=\"white-space:pre;overflow-x:auto;line-height:normal;font-family:Menlo,'DejaVu Sans Mono',consolas,'Courier New',monospace\">┏━━━━━━━━━━━━━━━━━━━━━━━━━━━━━━━━━━━━━━┳━━━━━━━━━━━━━━━━━━━━━━━━━━━━━┳━━━━━━━━━━━━━━━━━┓\n",
              "┃<span style=\"font-weight: bold\"> Layer (type)                         </span>┃<span style=\"font-weight: bold\"> Output Shape                </span>┃<span style=\"font-weight: bold\">         Param # </span>┃\n",
              "┡━━━━━━━━━━━━━━━━━━━━━━━━━━━━━━━━━━━━━━╇━━━━━━━━━━━━━━━━━━━━━━━━━━━━━╇━━━━━━━━━━━━━━━━━┩\n",
              "│ dense (<span style=\"color: #0087ff; text-decoration-color: #0087ff\">Dense</span>)                        │ (<span style=\"color: #00d7ff; text-decoration-color: #00d7ff\">None</span>, <span style=\"color: #00af00; text-decoration-color: #00af00\">64</span>)                  │             <span style=\"color: #00af00; text-decoration-color: #00af00\">192</span> │\n",
              "├──────────────────────────────────────┼─────────────────────────────┼─────────────────┤\n",
              "│ dropout (<span style=\"color: #0087ff; text-decoration-color: #0087ff\">Dropout</span>)                    │ (<span style=\"color: #00d7ff; text-decoration-color: #00d7ff\">None</span>, <span style=\"color: #00af00; text-decoration-color: #00af00\">64</span>)                  │               <span style=\"color: #00af00; text-decoration-color: #00af00\">0</span> │\n",
              "├──────────────────────────────────────┼─────────────────────────────┼─────────────────┤\n",
              "│ dense_1 (<span style=\"color: #0087ff; text-decoration-color: #0087ff\">Dense</span>)                      │ (<span style=\"color: #00d7ff; text-decoration-color: #00d7ff\">None</span>, <span style=\"color: #00af00; text-decoration-color: #00af00\">1</span>)                   │              <span style=\"color: #00af00; text-decoration-color: #00af00\">65</span> │\n",
              "└──────────────────────────────────────┴─────────────────────────────┴─────────────────┘\n",
              "</pre>\n"
            ]
          },
          "metadata": {}
        },
        {
          "output_type": "display_data",
          "data": {
            "text/plain": [
              "\u001b[1m Total params: \u001b[0m\u001b[38;5;34m257\u001b[0m (1.00 KB)\n"
            ],
            "text/html": [
              "<pre style=\"white-space:pre;overflow-x:auto;line-height:normal;font-family:Menlo,'DejaVu Sans Mono',consolas,'Courier New',monospace\"><span style=\"font-weight: bold\"> Total params: </span><span style=\"color: #00af00; text-decoration-color: #00af00\">257</span> (1.00 KB)\n",
              "</pre>\n"
            ]
          },
          "metadata": {}
        },
        {
          "output_type": "display_data",
          "data": {
            "text/plain": [
              "\u001b[1m Trainable params: \u001b[0m\u001b[38;5;34m257\u001b[0m (1.00 KB)\n"
            ],
            "text/html": [
              "<pre style=\"white-space:pre;overflow-x:auto;line-height:normal;font-family:Menlo,'DejaVu Sans Mono',consolas,'Courier New',monospace\"><span style=\"font-weight: bold\"> Trainable params: </span><span style=\"color: #00af00; text-decoration-color: #00af00\">257</span> (1.00 KB)\n",
              "</pre>\n"
            ]
          },
          "metadata": {}
        },
        {
          "output_type": "display_data",
          "data": {
            "text/plain": [
              "\u001b[1m Non-trainable params: \u001b[0m\u001b[38;5;34m0\u001b[0m (0.00 B)\n"
            ],
            "text/html": [
              "<pre style=\"white-space:pre;overflow-x:auto;line-height:normal;font-family:Menlo,'DejaVu Sans Mono',consolas,'Courier New',monospace\"><span style=\"font-weight: bold\"> Non-trainable params: </span><span style=\"color: #00af00; text-decoration-color: #00af00\">0</span> (0.00 B)\n",
              "</pre>\n"
            ]
          },
          "metadata": {}
        }
      ]
    },
    {
      "cell_type": "code",
      "source": [
        "from sklearn.utils.class_weight import compute_class_weight\n",
        "\n",
        "class_weights = compute_class_weight('balanced', classes=np.unique(train_labels), y=train_labels)\n",
        "class_weights = dict(enumerate(class_weights))"
      ],
      "metadata": {
        "id": "2aRpzYut_Fil"
      },
      "execution_count": 50,
      "outputs": []
    },
    {
      "cell_type": "code",
      "source": [
        "history = fusion_model.fit(train_combined_features, train_labels, epochs=20, batch_size=32, validation_split=0.2, verbose = 1, class_weight=class_weights)"
      ],
      "metadata": {
        "colab": {
          "base_uri": "https://localhost:8080/"
        },
        "id": "FYU8r3emcbY3",
        "outputId": "672928a1-2505-4ea9-d7f1-f7543483d345",
        "collapsed": true
      },
      "execution_count": 51,
      "outputs": [
        {
          "output_type": "stream",
          "name": "stdout",
          "text": [
            "Epoch 1/20\n",
            "\u001b[1m40/40\u001b[0m \u001b[32m━━━━━━━━━━━━━━━━━━━━\u001b[0m\u001b[37m\u001b[0m \u001b[1m2s\u001b[0m 8ms/step - accuracy: 0.7156 - loss: 0.6911 - val_accuracy: 0.8239 - val_loss: 0.5911\n",
            "Epoch 2/20\n",
            "\u001b[1m40/40\u001b[0m \u001b[32m━━━━━━━━━━━━━━━━━━━━\u001b[0m\u001b[37m\u001b[0m \u001b[1m0s\u001b[0m 4ms/step - accuracy: 0.8053 - loss: 0.5751 - val_accuracy: 0.8208 - val_loss: 0.5312\n",
            "Epoch 3/20\n",
            "\u001b[1m40/40\u001b[0m \u001b[32m━━━━━━━━━━━━━━━━━━━━\u001b[0m\u001b[37m\u001b[0m \u001b[1m0s\u001b[0m 3ms/step - accuracy: 0.8338 - loss: 0.5123 - val_accuracy: 0.8113 - val_loss: 0.4958\n",
            "Epoch 4/20\n",
            "\u001b[1m40/40\u001b[0m \u001b[32m━━━━━━━━━━━━━━━━━━━━\u001b[0m\u001b[37m\u001b[0m \u001b[1m0s\u001b[0m 3ms/step - accuracy: 0.8418 - loss: 0.4792 - val_accuracy: 0.8082 - val_loss: 0.4740\n",
            "Epoch 5/20\n",
            "\u001b[1m40/40\u001b[0m \u001b[32m━━━━━━━━━━━━━━━━━━━━\u001b[0m\u001b[37m\u001b[0m \u001b[1m0s\u001b[0m 3ms/step - accuracy: 0.8402 - loss: 0.4584 - val_accuracy: 0.8082 - val_loss: 0.4579\n",
            "Epoch 6/20\n",
            "\u001b[1m40/40\u001b[0m \u001b[32m━━━━━━━━━━━━━━━━━━━━\u001b[0m\u001b[37m\u001b[0m \u001b[1m0s\u001b[0m 3ms/step - accuracy: 0.8388 - loss: 0.4430 - val_accuracy: 0.8082 - val_loss: 0.4472\n",
            "Epoch 7/20\n",
            "\u001b[1m40/40\u001b[0m \u001b[32m━━━━━━━━━━━━━━━━━━━━\u001b[0m\u001b[37m\u001b[0m \u001b[1m0s\u001b[0m 3ms/step - accuracy: 0.8335 - loss: 0.4343 - val_accuracy: 0.8082 - val_loss: 0.4386\n",
            "Epoch 8/20\n",
            "\u001b[1m40/40\u001b[0m \u001b[32m━━━━━━━━━━━━━━━━━━━━\u001b[0m\u001b[37m\u001b[0m \u001b[1m0s\u001b[0m 6ms/step - accuracy: 0.8405 - loss: 0.4287 - val_accuracy: 0.8113 - val_loss: 0.4302\n",
            "Epoch 9/20\n",
            "\u001b[1m40/40\u001b[0m \u001b[32m━━━━━━━━━━━━━━━━━━━━\u001b[0m\u001b[37m\u001b[0m \u001b[1m0s\u001b[0m 5ms/step - accuracy: 0.8320 - loss: 0.4180 - val_accuracy: 0.8082 - val_loss: 0.4269\n",
            "Epoch 10/20\n",
            "\u001b[1m40/40\u001b[0m \u001b[32m━━━━━━━━━━━━━━━━━━━━\u001b[0m\u001b[37m\u001b[0m \u001b[1m0s\u001b[0m 5ms/step - accuracy: 0.8431 - loss: 0.4034 - val_accuracy: 0.8082 - val_loss: 0.4220\n",
            "Epoch 11/20\n",
            "\u001b[1m40/40\u001b[0m \u001b[32m━━━━━━━━━━━━━━━━━━━━\u001b[0m\u001b[37m\u001b[0m \u001b[1m0s\u001b[0m 6ms/step - accuracy: 0.8445 - loss: 0.3900 - val_accuracy: 0.8113 - val_loss: 0.4205\n",
            "Epoch 12/20\n",
            "\u001b[1m40/40\u001b[0m \u001b[32m━━━━━━━━━━━━━━━━━━━━\u001b[0m\u001b[37m\u001b[0m \u001b[1m0s\u001b[0m 6ms/step - accuracy: 0.8384 - loss: 0.4072 - val_accuracy: 0.8082 - val_loss: 0.4161\n",
            "Epoch 13/20\n",
            "\u001b[1m40/40\u001b[0m \u001b[32m━━━━━━━━━━━━━━━━━━━━\u001b[0m\u001b[37m\u001b[0m \u001b[1m1s\u001b[0m 6ms/step - accuracy: 0.8341 - loss: 0.4095 - val_accuracy: 0.8113 - val_loss: 0.4145\n",
            "Epoch 14/20\n",
            "\u001b[1m40/40\u001b[0m \u001b[32m━━━━━━━━━━━━━━━━━━━━\u001b[0m\u001b[37m\u001b[0m \u001b[1m1s\u001b[0m 6ms/step - accuracy: 0.8486 - loss: 0.3880 - val_accuracy: 0.8082 - val_loss: 0.4117\n",
            "Epoch 15/20\n",
            "\u001b[1m40/40\u001b[0m \u001b[32m━━━━━━━━━━━━━━━━━━━━\u001b[0m\u001b[37m\u001b[0m \u001b[1m0s\u001b[0m 3ms/step - accuracy: 0.8279 - loss: 0.4115 - val_accuracy: 0.8113 - val_loss: 0.4107\n",
            "Epoch 16/20\n",
            "\u001b[1m40/40\u001b[0m \u001b[32m━━━━━━━━━━━━━━━━━━━━\u001b[0m\u001b[37m\u001b[0m \u001b[1m0s\u001b[0m 4ms/step - accuracy: 0.8487 - loss: 0.3879 - val_accuracy: 0.8113 - val_loss: 0.4097\n",
            "Epoch 17/20\n",
            "\u001b[1m40/40\u001b[0m \u001b[32m━━━━━━━━━━━━━━━━━━━━\u001b[0m\u001b[37m\u001b[0m \u001b[1m0s\u001b[0m 3ms/step - accuracy: 0.8162 - loss: 0.4467 - val_accuracy: 0.8113 - val_loss: 0.4088\n",
            "Epoch 18/20\n",
            "\u001b[1m40/40\u001b[0m \u001b[32m━━━━━━━━━━━━━━━━━━━━\u001b[0m\u001b[37m\u001b[0m \u001b[1m0s\u001b[0m 3ms/step - accuracy: 0.8338 - loss: 0.3949 - val_accuracy: 0.8113 - val_loss: 0.4068\n",
            "Epoch 19/20\n",
            "\u001b[1m40/40\u001b[0m \u001b[32m━━━━━━━━━━━━━━━━━━━━\u001b[0m\u001b[37m\u001b[0m \u001b[1m0s\u001b[0m 3ms/step - accuracy: 0.8168 - loss: 0.4054 - val_accuracy: 0.8113 - val_loss: 0.4062\n",
            "Epoch 20/20\n",
            "\u001b[1m40/40\u001b[0m \u001b[32m━━━━━━━━━━━━━━━━━━━━\u001b[0m\u001b[37m\u001b[0m \u001b[1m0s\u001b[0m 3ms/step - accuracy: 0.8208 - loss: 0.3955 - val_accuracy: 0.8113 - val_loss: 0.4049\n"
          ]
        }
      ]
    },
    {
      "cell_type": "code",
      "source": [
        "test_loss, test_accuracy = fusion_model.evaluate(test_combined_features, test_labels, verbose=1)\n",
        "print(f\"Test Accuracy: {test_accuracy}\")"
      ],
      "metadata": {
        "id": "Jkijrzq70hL_",
        "colab": {
          "base_uri": "https://localhost:8080/"
        },
        "outputId": "bdcf93c6-309d-4256-b3a9-7944710b79ea"
      },
      "execution_count": 52,
      "outputs": [
        {
          "output_type": "stream",
          "name": "stdout",
          "text": [
            "\u001b[1m13/13\u001b[0m \u001b[32m━━━━━━━━━━━━━━━━━━━━\u001b[0m\u001b[37m\u001b[0m \u001b[1m0s\u001b[0m 2ms/step - accuracy: 0.8344 - loss: 0.3860 \n",
            "Test Accuracy: 0.8291457295417786\n"
          ]
        }
      ]
    },
    {
      "cell_type": "code",
      "source": [
        "plt.plot(history.history['accuracy'], label='Training Accuracy', color = 'blue')\n",
        "plt.plot(history.history['val_accuracy'], label='Validation Accuracy', color = 'red')\n",
        "plt.xlabel('Epochs')\n",
        "plt.ylabel('Accuracy')\n",
        "plt.legend()\n",
        "plt.show()"
      ],
      "metadata": {
        "colab": {
          "base_uri": "https://localhost:8080/",
          "height": 449
        },
        "id": "31shQ6By_jSL",
        "outputId": "a9ad79a9-8d9d-4de8-c6c6-9c034e67f1d6"
      },
      "execution_count": 53,
      "outputs": [
        {
          "output_type": "display_data",
          "data": {
            "text/plain": [
              "<Figure size 640x480 with 1 Axes>"
            ],
            "image/png": "[encoded data removed]"
          },
          "metadata": {}
        }
      ]
    },
    {
      "cell_type": "code",
      "source": [
        "plt.plot(history.history['loss'], label='Training Loss', color = 'blue')\n",
        "plt.plot(history.history['val_loss'], label='Validation Loss', color = 'red')\n",
        "plt.xlabel('Epochs')\n",
        "plt.ylabel('Loss')\n",
        "plt.legend()\n",
        "plt.show()"
      ],
      "metadata": {
        "colab": {
          "base_uri": "https://localhost:8080/",
          "height": 449
        },
        "id": "Q0pr501K_s0_",
        "outputId": "609e1001-8bab-4cbb-ad3f-d283d0d0ec45"
      },
      "execution_count": 54,
      "outputs": [
        {
          "output_type": "display_data",
          "data": {
            "text/plain": [
              "<Figure size 640x480 with 1 Axes>"
            ],
            "image/png": "[encoded data removed]"
          },
          "metadata": {}
        }
      ]
    },
    {
      "cell_type": "code",
      "source": [
        "y_pred = (fusion_model.predict(test_combined_features) > 0.5).astype(\"int32\")"
      ],
      "metadata": {
        "colab": {
          "base_uri": "https://localhost:8080/"
        },
        "id": "cMDDLw9jutZ2",
        "outputId": "4c3a0d8f-006d-48f7-d6de-b6f4e26c3ee1"
      },
      "execution_count": 55,
      "outputs": [
        {
          "output_type": "stream",
          "name": "stdout",
          "text": [
            "\u001b[1m13/13\u001b[0m \u001b[32m━━━━━━━━━━━━━━━━━━━━\u001b[0m\u001b[37m\u001b[0m \u001b[1m0s\u001b[0m 5ms/step\n"
          ]
        }
      ]
    },
    {
      "cell_type": "code",
      "source": [
        "from sklearn.metrics import confusion_matrix, ConfusionMatrixDisplay, classification_report"
      ],
      "metadata": {
        "id": "GMLGxdHTuv9T"
      },
      "execution_count": 56,
      "outputs": []
    },
    {
      "cell_type": "code",
      "source": [
        "CM = confusion_matrix(test_labels, y_pred)\n",
        "disp = ConfusionMatrixDisplay(confusion_matrix = CM)\n",
        "disp.plot(cmap = plt.cm.Blues)\n",
        "plt.title(\"Confusion Matrix Fusion Model\")\n",
        "plt.show()"
      ],
      "metadata": {
        "colab": {
          "base_uri": "https://localhost:8080/",
          "height": 472
        },
        "id": "N1oaYRJHvM-g",
        "outputId": "2c14c185-b786-44de-94ca-de50f7b1e472"
      },
      "execution_count": 57,
      "outputs": [
        {
          "output_type": "display_data",
          "data": {
            "text/plain": [
              "<Figure size 640x480 with 2 Axes>"
            ],
            "image/png": "[encoded data removed]"
          },
          "metadata": {}
        }
      ]
    },
    {
      "cell_type": "code",
      "source": [
        "print(classification_report(test_labels, y_pred))"
      ],
      "metadata": {
        "colab": {
          "base_uri": "https://localhost:8080/"
        },
        "id": "sj2fmPPnvXJd",
        "outputId": "9e88ce36-f0b1-468d-f41a-b5e4f9bbc410"
      },
      "execution_count": 58,
      "outputs": [
        {
          "output_type": "stream",
          "name": "stdout",
          "text": [
            "              precision    recall  f1-score   support\n",
            "\n",
            "           0       0.80      0.88      0.84       200\n",
            "           1       0.86      0.78      0.82       198\n",
            "\n",
            "    accuracy                           0.83       398\n",
            "   macro avg       0.83      0.83      0.83       398\n",
            "weighted avg       0.83      0.83      0.83       398\n",
            "\n"
          ]
        }
      ]
    },
    {
      "cell_type": "markdown",
      "source": [
        "##RandomSearchCV"
      ],
      "metadata": {
        "id": "xPP57HT23_ux"
      }
    },
    {
      "cell_type": "code",
      "source": [
        "from sklearn.model_selection import RandomizedSearchCV\n",
        "import random\n",
        "from tensorflow.keras.callbacks import EarlyStopping"
      ],
      "metadata": {
        "id": "7D1OYAbk4Gyd"
      },
      "execution_count": 59,
      "outputs": []
    },
    {
      "cell_type": "code",
      "source": [
        "def create_model(learning_rate, dropout_rate, l2_reg):\n",
        "    fusion_model_2 = tf.keras.Sequential([\n",
        "        tf.keras.layers.InputLayer(input_shape = (train_combined_features.shape[1],)),\n",
        "        tf.keras.layers.Dense(128, activation='relu', kernel_regularizer = tf.keras.regularizers.l2(l2_reg)),\n",
        "        tf.keras.layers.Dropout(dropout_rate),\n",
        "        tf.keras.layers.Dense(64, activation='relu', kernel_regularizer = tf.keras.regularizers.l2(l2_reg)),\n",
        "        tf.keras.layers.Dropout(dropout_rate),\n",
        "        tf.keras.layers.Dense(32, activation='relu', kernel_regularizer = tf.keras.regularizers.l2(l2_reg)),\n",
        "        tf.keras.layers.Dropout(dropout_rate),\n",
        "        tf.keras.layers.Dense(1, activation='sigmoid')\n",
        "    ])\n",
        "\n",
        "    fusion_model_2.compile(optimizer=tf.keras.optimizers.Adam(learning_rate=learning_rate),\n",
        "                  loss='binary_crossentropy', metrics=['accuracy'])\n",
        "\n",
        "    return fusion_model_2"
      ],
      "metadata": {
        "id": "F4rlgnoa32Ra"
      },
      "execution_count": 60,
      "outputs": []
    },
    {
      "cell_type": "code",
      "source": [
        "param_dist = {\n",
        "\n",
        "    'dropout_rate': [0.2, 0.3],\n",
        "    'learning_rate': [0.01, 0.001, 0.0001],\n",
        "    'batch_size': [32],\n",
        "    'l2_reg': [0.001, 0.01, 0.0001],\n",
        "    'epochs': [10, 20]\n",
        "}"
      ],
      "metadata": {
        "id": "qsa1fU4B4NLt"
      },
      "execution_count": 61,
      "outputs": []
    },
    {
      "cell_type": "code",
      "source": [
        "best_params = None\n",
        "best_score = -np.inf"
      ],
      "metadata": {
        "id": "ymYpbIi44C47"
      },
      "execution_count": 62,
      "outputs": []
    },
    {
      "cell_type": "code",
      "source": [
        "n_iter = 3"
      ],
      "metadata": {
        "id": "WTBfM2uJ6qIm"
      },
      "execution_count": 63,
      "outputs": []
    },
    {
      "cell_type": "code",
      "source": [
        "# best_model = None"
      ],
      "metadata": {
        "id": "XoratsHE6sbm"
      },
      "execution_count": 64,
      "outputs": []
    },
    {
      "cell_type": "code",
      "source": [
        "for _ in range(n_iter):\n",
        "    # Randomly sample a set of hyperparameters\n",
        "    learning_rate = random.choice(param_dist['learning_rate'])\n",
        "    dropout_rate = random.choice(param_dist['dropout_rate'])\n",
        "    l2_reg = random.choice(param_dist['l2_reg'])\n",
        "    epochs = random.choice(param_dist['epochs'])\n",
        "    batch_size = random.choice(param_dist['batch_size'])\n",
        "\n",
        "    print(f\"Training model with Random Search: learning_rate = {learning_rate}, dropout = {dropout_rate}, l2_reg = {l2_reg}, epochs = {epochs}, batch_size = {batch_size}\")\n",
        "\n",
        "    # Creating the model\n",
        "    model = create_model(learning_rate, dropout_rate, l2_reg)\n",
        "\n",
        "    # Adding EarlyStopping\n",
        "    early_stopping = EarlyStopping(monitor='val_loss', patience=3, restore_best_weights=True)\n",
        "\n",
        "    # Training the model\n",
        "    history = model.fit(train_combined_features, train_labels,\n",
        "                        validation_split = 0.2,\n",
        "                        epochs = epochs, batch_size = batch_size,\n",
        "                        callbacks=[early_stopping], verbose=0, class_weight=class_weights)\n",
        "\n",
        "    # Get the validation accuracy from the last epoch\n",
        "    val_acc = history.history['val_accuracy'][-1]\n",
        "\n",
        "    # If this model's validation accuracy is better than the previous best, store it\n",
        "    if val_acc > best_score:\n",
        "        best_score = val_acc\n",
        "        best_params = {\n",
        "            'learning_rate': learning_rate,\n",
        "            'dropout_rate': dropout_rate,\n",
        "            'l2_reg': l2_reg,\n",
        "            'epochs': epochs,\n",
        "            'batch_size': batch_size\n",
        "        }\n",
        "        # best_model = model"
      ],
      "metadata": {
        "colab": {
          "base_uri": "https://localhost:8080/"
        },
        "id": "8HqLQBnO601v",
        "outputId": "b40429ca-4e30-47e2-ca8a-a064f9435c60"
      },
      "execution_count": 65,
      "outputs": [
        {
          "output_type": "stream",
          "name": "stdout",
          "text": [
            "Training model with Random Search: learning_rate = 0.0001, dropout = 0.3, l2_reg = 0.0001, epochs = 20, batch_size = 32\n",
            "Training model with Random Search: learning_rate = 0.01, dropout = 0.2, l2_reg = 0.001, epochs = 20, batch_size = 32\n",
            "Training model with Random Search: learning_rate = 0.01, dropout = 0.2, l2_reg = 0.001, epochs = 20, batch_size = 32\n"
          ]
        }
      ]
    },
    {
      "cell_type": "code",
      "source": [
        "print(\"Best Validation Accuracy:\", best_score)\n",
        "print(\"Best Hyperparameters:\", best_params)"
      ],
      "metadata": {
        "colab": {
          "base_uri": "https://localhost:8080/"
        },
        "id": "TyCsuJFt65HW",
        "outputId": "60dad899-d912-4170-ab50-c5f41bfff8da"
      },
      "execution_count": 66,
      "outputs": [
        {
          "output_type": "stream",
          "name": "stdout",
          "text": [
            "Best Validation Accuracy: 0.801886796951294\n",
            "Best Hyperparameters: {'learning_rate': 0.0001, 'dropout_rate': 0.3, 'l2_reg': 0.0001, 'epochs': 20, 'batch_size': 32}\n"
          ]
        }
      ]
    },
    {
      "cell_type": "code",
      "source": [
        "final_model_rd = create_model(learning_rate = best_params['learning_rate'],\n",
        "                           dropout_rate = best_params['dropout_rate'],\n",
        "                           l2_reg = best_params['l2_reg'])\n",
        "\n",
        "history_final = final_model_rd.fit(train_combined_features, train_labels,\n",
        "                                validation_split = 0.2,\n",
        "                                epochs = best_params['epochs'],\n",
        "                                batch_size = best_params['batch_size'], class_weight=class_weights)"
      ],
      "metadata": {
        "colab": {
          "base_uri": "https://localhost:8080/"
        },
        "id": "u_jyzE1Z693C",
        "outputId": "98b3e1da-4972-4534-a37a-150c24e2539a"
      },
      "execution_count": 67,
      "outputs": [
        {
          "output_type": "stream",
          "name": "stdout",
          "text": [
            "Epoch 1/20\n",
            "\u001b[1m40/40\u001b[0m \u001b[32m━━━━━━━━━━━━━━━━━━━━\u001b[0m\u001b[37m\u001b[0m \u001b[1m3s\u001b[0m 10ms/step - accuracy: 0.5749 - loss: 0.6941 - val_accuracy: 0.7799 - val_loss: 0.6629\n",
            "Epoch 2/20\n",
            "\u001b[1m40/40\u001b[0m \u001b[32m━━━━━━━━━━━━━━━━━━━━\u001b[0m\u001b[37m\u001b[0m \u001b[1m0s\u001b[0m 3ms/step - accuracy: 0.7026 - loss: 0.6611 - val_accuracy: 0.8113 - val_loss: 0.6297\n",
            "Epoch 3/20\n",
            "\u001b[1m40/40\u001b[0m \u001b[32m━━━━━━━━━━━━━━━━━━━━\u001b[0m\u001b[37m\u001b[0m \u001b[1m0s\u001b[0m 4ms/step - accuracy: 0.7797 - loss: 0.6245 - val_accuracy: 0.8176 - val_loss: 0.5969\n",
            "Epoch 4/20\n",
            "\u001b[1m40/40\u001b[0m \u001b[32m━━━━━━━━━━━━━━━━━━━━\u001b[0m\u001b[37m\u001b[0m \u001b[1m0s\u001b[0m 4ms/step - accuracy: 0.7851 - loss: 0.5985 - val_accuracy: 0.8176 - val_loss: 0.5645\n",
            "Epoch 5/20\n",
            "\u001b[1m40/40\u001b[0m \u001b[32m━━━━━━━━━━━━━━━━━━━━\u001b[0m\u001b[37m\u001b[0m \u001b[1m0s\u001b[0m 6ms/step - accuracy: 0.8112 - loss: 0.5617 - val_accuracy: 0.8145 - val_loss: 0.5322\n",
            "Epoch 6/20\n",
            "\u001b[1m40/40\u001b[0m \u001b[32m━━━━━━━━━━━━━━━━━━━━\u001b[0m\u001b[37m\u001b[0m \u001b[1m0s\u001b[0m 6ms/step - accuracy: 0.8360 - loss: 0.5196 - val_accuracy: 0.8239 - val_loss: 0.5039\n",
            "Epoch 7/20\n",
            "\u001b[1m40/40\u001b[0m \u001b[32m━━━━━━━━━━━━━━━━━━━━\u001b[0m\u001b[37m\u001b[0m \u001b[1m1s\u001b[0m 7ms/step - accuracy: 0.8332 - loss: 0.4903 - val_accuracy: 0.8239 - val_loss: 0.4808\n",
            "Epoch 8/20\n",
            "\u001b[1m40/40\u001b[0m \u001b[32m━━━━━━━━━━━━━━━━━━━━\u001b[0m\u001b[37m\u001b[0m \u001b[1m1s\u001b[0m 7ms/step - accuracy: 0.8166 - loss: 0.4808 - val_accuracy: 0.8239 - val_loss: 0.4617\n",
            "Epoch 9/20\n",
            "\u001b[1m40/40\u001b[0m \u001b[32m━━━━━━━━━━━━━━━━━━━━\u001b[0m\u001b[37m\u001b[0m \u001b[1m1s\u001b[0m 6ms/step - accuracy: 0.8303 - loss: 0.4461 - val_accuracy: 0.8239 - val_loss: 0.4461\n",
            "Epoch 10/20\n",
            "\u001b[1m40/40\u001b[0m \u001b[32m━━━━━━━━━━━━━━━━━━━━\u001b[0m\u001b[37m\u001b[0m \u001b[1m1s\u001b[0m 4ms/step - accuracy: 0.8399 - loss: 0.4458 - val_accuracy: 0.8176 - val_loss: 0.4352\n",
            "Epoch 11/20\n",
            "\u001b[1m40/40\u001b[0m \u001b[32m━━━━━━━━━━━━━━━━━━━━\u001b[0m\u001b[37m\u001b[0m \u001b[1m0s\u001b[0m 4ms/step - accuracy: 0.8367 - loss: 0.4380 - val_accuracy: 0.8145 - val_loss: 0.4242\n",
            "Epoch 12/20\n",
            "\u001b[1m40/40\u001b[0m \u001b[32m━━━━━━━━━━━━━━━━━━━━\u001b[0m\u001b[37m\u001b[0m \u001b[1m0s\u001b[0m 4ms/step - accuracy: 0.8314 - loss: 0.4189 - val_accuracy: 0.8145 - val_loss: 0.4176\n",
            "Epoch 13/20\n",
            "\u001b[1m40/40\u001b[0m \u001b[32m━━━━━━━━━━━━━━━━━━━━\u001b[0m\u001b[37m\u001b[0m \u001b[1m0s\u001b[0m 5ms/step - accuracy: 0.8274 - loss: 0.4133 - val_accuracy: 0.8145 - val_loss: 0.4146\n",
            "Epoch 14/20\n",
            "\u001b[1m40/40\u001b[0m \u001b[32m━━━━━━━━━━━━━━━━━━━━\u001b[0m\u001b[37m\u001b[0m \u001b[1m0s\u001b[0m 5ms/step - accuracy: 0.8407 - loss: 0.3955 - val_accuracy: 0.8113 - val_loss: 0.4112\n",
            "Epoch 15/20\n",
            "\u001b[1m40/40\u001b[0m \u001b[32m━━━━━━━━━━━━━━━━━━━━\u001b[0m\u001b[37m\u001b[0m \u001b[1m0s\u001b[0m 4ms/step - accuracy: 0.8254 - loss: 0.4005 - val_accuracy: 0.8082 - val_loss: 0.4106\n",
            "Epoch 16/20\n",
            "\u001b[1m40/40\u001b[0m \u001b[32m━━━━━━━━━━━━━━━━━━━━\u001b[0m\u001b[37m\u001b[0m \u001b[1m0s\u001b[0m 4ms/step - accuracy: 0.8413 - loss: 0.3931 - val_accuracy: 0.8113 - val_loss: 0.4084\n",
            "Epoch 17/20\n",
            "\u001b[1m40/40\u001b[0m \u001b[32m━━━━━━━━━━━━━━━━━━━━\u001b[0m\u001b[37m\u001b[0m \u001b[1m0s\u001b[0m 4ms/step - accuracy: 0.8334 - loss: 0.3973 - val_accuracy: 0.8113 - val_loss: 0.4056\n",
            "Epoch 18/20\n",
            "\u001b[1m40/40\u001b[0m \u001b[32m━━━━━━━━━━━━━━━━━━━━\u001b[0m\u001b[37m\u001b[0m \u001b[1m0s\u001b[0m 4ms/step - accuracy: 0.8430 - loss: 0.3903 - val_accuracy: 0.8145 - val_loss: 0.4056\n",
            "Epoch 19/20\n",
            "\u001b[1m40/40\u001b[0m \u001b[32m━━━━━━━━━━━━━━━━━━━━\u001b[0m\u001b[37m\u001b[0m \u001b[1m0s\u001b[0m 4ms/step - accuracy: 0.8252 - loss: 0.4156 - val_accuracy: 0.8145 - val_loss: 0.4033\n",
            "Epoch 20/20\n",
            "\u001b[1m40/40\u001b[0m \u001b[32m━━━━━━━━━━━━━━━━━━━━\u001b[0m\u001b[37m\u001b[0m \u001b[1m0s\u001b[0m 4ms/step - accuracy: 0.8310 - loss: 0.3907 - val_accuracy: 0.8145 - val_loss: 0.4036\n"
          ]
        }
      ]
    },
    {
      "cell_type": "code",
      "source": [
        "plt.plot(history_final.history['accuracy'], label='train_accuracy')\n",
        "plt.plot(history_final.history['val_accuracy'], label='val_accuracy')\n",
        "plt.title('Final Model Accuracy')\n",
        "plt.legend()\n",
        "plt.show()"
      ],
      "metadata": {
        "colab": {
          "base_uri": "https://localhost:8080/",
          "height": 452
        },
        "id": "SZNKml8-9kJn",
        "outputId": "7fe9635f-d0d2-40ae-e13c-d27ef8d44cfd"
      },
      "execution_count": 68,
      "outputs": [
        {
          "output_type": "display_data",
          "data": {
            "text/plain": [
              "<Figure size 640x480 with 1 Axes>"
            ],
            "image/png": "[encoded data removed]"
          },
          "metadata": {}
        }
      ]
    },
    {
      "cell_type": "code",
      "source": [
        "plt.plot(history_final.history['loss'], label='train_loss', color='red')\n",
        "plt.plot(history_final.history['val_loss'], label='val_loss', color='blue')\n",
        "plt.title('Final Model Loss')\n",
        "plt.legend()\n",
        "plt.show()"
      ],
      "metadata": {
        "colab": {
          "base_uri": "https://localhost:8080/",
          "height": 452
        },
        "id": "wkufloUq9nje",
        "outputId": "03abab4d-2cdb-40c2-d9c2-819d755008d0"
      },
      "execution_count": 69,
      "outputs": [
        {
          "output_type": "display_data",
          "data": {
            "text/plain": [
              "<Figure size 640x480 with 1 Axes>"
            ],
            "image/png": "[encoded data removed]"
          },
          "metadata": {}
        }
      ]
    },
    {
      "cell_type": "code",
      "source": [
        "y_pred_rd = (final_model_rd.predict(test_combined_features) > 0.5).astype(\"int32\")"
      ],
      "metadata": {
        "colab": {
          "base_uri": "https://localhost:8080/"
        },
        "id": "jWdZ6x3dKjLQ",
        "outputId": "990741d0-3bbf-4e36-be5f-03ef9d73232c"
      },
      "execution_count": 70,
      "outputs": [
        {
          "output_type": "stream",
          "name": "stdout",
          "text": [
            "\u001b[1m13/13\u001b[0m \u001b[32m━━━━━━━━━━━━━━━━━━━━\u001b[0m\u001b[37m\u001b[0m \u001b[1m0s\u001b[0m 6ms/step\n"
          ]
        }
      ]
    },
    {
      "cell_type": "code",
      "source": [
        "CM = confusion_matrix(test_labels, y_pred_rd)\n",
        "disp = ConfusionMatrixDisplay(confusion_matrix = CM)\n",
        "disp.plot(cmap = plt.cm.Blues)\n",
        "plt.title(\"Confusion Matrix Fusion Model\")\n",
        "plt.show()"
      ],
      "metadata": {
        "colab": {
          "base_uri": "https://localhost:8080/",
          "height": 472
        },
        "id": "WdY_uQqVK0be",
        "outputId": "f204e85b-34f3-48b2-e42f-f57084785afd"
      },
      "execution_count": 71,
      "outputs": [
        {
          "output_type": "display_data",
          "data": {
            "text/plain": [
              "<Figure size 640x480 with 2 Axes>"
            ],
            "image/png": "[encoded data removed]"
          },
          "metadata": {}
        }
      ]
    },
    {
      "cell_type": "code",
      "source": [
        "print(classification_report(test_labels, y_pred_rd))"
      ],
      "metadata": {
        "colab": {
          "base_uri": "https://localhost:8080/"
        },
        "id": "CCp6xx0yK6om",
        "outputId": "09c8a8a6-b18e-44d7-db7f-0cb53d878aae"
      },
      "execution_count": 72,
      "outputs": [
        {
          "output_type": "stream",
          "name": "stdout",
          "text": [
            "              precision    recall  f1-score   support\n",
            "\n",
            "           0       0.80      0.88      0.84       200\n",
            "           1       0.86      0.78      0.82       198\n",
            "\n",
            "    accuracy                           0.83       398\n",
            "   macro avg       0.83      0.83      0.83       398\n",
            "weighted avg       0.83      0.83      0.83       398\n",
            "\n"
          ]
        }
      ]
    },
    {
      "cell_type": "markdown",
      "source": [
        "##GridSearchCV"
      ],
      "metadata": {
        "id": "Nr6xDJiPa_3w"
      }
    },
    {
      "cell_type": "code",
      "source": [
        "import itertools"
      ],
      "metadata": {
        "id": "BqEFA1jIbhB4"
      },
      "execution_count": 73,
      "outputs": []
    },
    {
      "cell_type": "code",
      "source": [
        "def create_model(learning_rate, dropout_rate, l2_reg):\n",
        "    model = tf.keras.Sequential([\n",
        "        tf.keras.layers.InputLayer(input_shape=(train_combined_features.shape[1],)),\n",
        "        tf.keras.layers.Dense(512, activation='relu', kernel_regularizer=tf.keras.regularizers.l2(l2_reg)),\n",
        "        tf.keras.layers.Dropout(dropout_rate),\n",
        "        tf.keras.layers.Dense(256, activation='relu', kernel_regularizer=tf.keras.regularizers.l2(l2_reg)),\n",
        "        tf.keras.layers.Dropout(dropout_rate),\n",
        "        tf.keras.layers.Dense(128, activation='relu', kernel_regularizer=tf.keras.regularizers.l2(l2_reg)),\n",
        "        tf.keras.layers.Dropout(dropout_rate),\n",
        "        tf.keras.layers.Dense(64, activation='relu', kernel_regularizer=tf.keras.regularizers.l2(l2_reg)),\n",
        "        tf.keras.layers.Dropout(dropout_rate),\n",
        "        tf.keras.layers.Dense(32, activation='relu', kernel_regularizer=tf.keras.regularizers.l2(l2_reg)),\n",
        "        tf.keras.layers.Dropout(dropout_rate),\n",
        "        tf.keras.layers.Dense(1, activation='sigmoid')\n",
        "    ])\n",
        "\n",
        "    model.compile(optimizer=tf.keras.optimizers.Adam(learning_rate=learning_rate),\n",
        "                  loss='binary_crossentropy', metrics=['accuracy'])\n",
        "    return model"
      ],
      "metadata": {
        "id": "w4dOxk3vacB3"
      },
      "execution_count": 74,
      "outputs": []
    },
    {
      "cell_type": "code",
      "source": [
        "param_grid = {\n",
        "    'learning_rate': [0.001, 0.01, 0.0001],\n",
        "    'dropout_rate': [0.3, 0.5, 0.6],\n",
        "    'l2_reg': [0.01, 0.001, 0.02, 0.0001, 0.002],\n",
        "    'epochs': [10, 20, 30, 40, 50],\n",
        "    'batch_size': [64]\n",
        "}"
      ],
      "metadata": {
        "id": "qpRuTDsFbRrP"
      },
      "execution_count": 75,
      "outputs": []
    },
    {
      "cell_type": "code",
      "source": [
        "best_params = None\n",
        "best_score = -np.inf"
      ],
      "metadata": {
        "id": "IopfJHUNbZuX"
      },
      "execution_count": 76,
      "outputs": []
    },
    {
      "cell_type": "code",
      "source": [
        "best_model = None"
      ],
      "metadata": {
        "id": "2_ZNaET4baXM"
      },
      "execution_count": 77,
      "outputs": []
    },
    {
      "cell_type": "code",
      "source": [
        "param_combinations = list(itertools.product(param_grid['learning_rate'],\n",
        "                                            param_grid['dropout_rate'],\n",
        "                                            param_grid['l2_reg'],\n",
        "                                            param_grid['epochs'],\n",
        "                                            param_grid['batch_size']))"
      ],
      "metadata": {
        "id": "GjHFaLQfbdAP"
      },
      "execution_count": 78,
      "outputs": []
    },
    {
      "cell_type": "code",
      "source": [
        "for combination in param_combinations:\n",
        "    # Unpack the combination\n",
        "    learning_rate, dropout_rate, l2_reg, epochs, batch_size = combination\n",
        "\n",
        "    print(f\"Training model with Grid Search: learning_rate = {learning_rate}, dropout = {dropout_rate}, l2_reg = {l2_reg}, epochs = {epochs}, batch_size = {batch_size}\")\n",
        "\n",
        "    # Create the model\n",
        "    model = create_model(learning_rate, dropout_rate, l2_reg)\n",
        "\n",
        "    # Add EarlyStopping\n",
        "    early_stopping = EarlyStopping(monitor='val_loss', patience=3, restore_best_weights=True)\n",
        "\n",
        "    # Train the model\n",
        "    history = model.fit(train_combined_features, train_labels,\n",
        "                        validation_split = 0.2,\n",
        "                        epochs=epochs, batch_size=batch_size,\n",
        "                        callbacks=[early_stopping], verbose=0, class_weight = class_weights)\n",
        "\n",
        "    # Get the validation accuracy from the last epoch\n",
        "    val_acc = history.history['val_accuracy'][-1]\n",
        "\n",
        "    # If this model's validation accuracy is better than the previous best, store it\n",
        "    if val_acc > best_score:\n",
        "        best_score = val_acc\n",
        "        best_params = {\n",
        "            'learning_rate': learning_rate,\n",
        "            'dropout_rate': dropout_rate,\n",
        "            'l2_reg': l2_reg,\n",
        "            'epochs': epochs,\n",
        "            'batch_size': batch_size\n",
        "        }\n",
        "\n",
        "        best_model = model"
      ],
      "metadata": {
        "colab": {
          "base_uri": "https://localhost:8080/"
        },
        "id": "Qe4ljINibkzD",
        "outputId": "9f49eb8c-0451-4742-c018-8c7a7739e478",
        "collapsed": true
      },
      "execution_count": 79,
      "outputs": [
        {
          "output_type": "stream",
          "name": "stdout",
          "text": [
            "Training model with Grid Search: learning_rate = 0.001, dropout = 0.3, l2_reg = 0.01, epochs = 10, batch_size = 64\n",
            "Training model with Grid Search: learning_rate = 0.001, dropout = 0.3, l2_reg = 0.01, epochs = 20, batch_size = 64\n",
            "Training model with Grid Search: learning_rate = 0.001, dropout = 0.3, l2_reg = 0.01, epochs = 30, batch_size = 64\n",
            "Training model with Grid Search: learning_rate = 0.001, dropout = 0.3, l2_reg = 0.01, epochs = 40, batch_size = 64\n",
            "Training model with Grid Search: learning_rate = 0.001, dropout = 0.3, l2_reg = 0.01, epochs = 50, batch_size = 64\n",
            "Training model with Grid Search: learning_rate = 0.001, dropout = 0.3, l2_reg = 0.001, epochs = 10, batch_size = 64\n",
            "Training model with Grid Search: learning_rate = 0.001, dropout = 0.3, l2_reg = 0.001, epochs = 20, batch_size = 64\n",
            "Training model with Grid Search: learning_rate = 0.001, dropout = 0.3, l2_reg = 0.001, epochs = 30, batch_size = 64\n",
            "Training model with Grid Search: learning_rate = 0.001, dropout = 0.3, l2_reg = 0.001, epochs = 40, batch_size = 64\n",
            "Training model with Grid Search: learning_rate = 0.001, dropout = 0.3, l2_reg = 0.001, epochs = 50, batch_size = 64\n",
            "Training model with Grid Search: learning_rate = 0.001, dropout = 0.3, l2_reg = 0.02, epochs = 10, batch_size = 64\n",
            "Training model with Grid Search: learning_rate = 0.001, dropout = 0.3, l2_reg = 0.02, epochs = 20, batch_size = 64\n",
            "Training model with Grid Search: learning_rate = 0.001, dropout = 0.3, l2_reg = 0.02, epochs = 30, batch_size = 64\n",
            "Training model with Grid Search: learning_rate = 0.001, dropout = 0.3, l2_reg = 0.02, epochs = 40, batch_size = 64\n",
            "Training model with Grid Search: learning_rate = 0.001, dropout = 0.3, l2_reg = 0.02, epochs = 50, batch_size = 64\n",
            "Training model with Grid Search: learning_rate = 0.001, dropout = 0.3, l2_reg = 0.0001, epochs = 10, batch_size = 64\n",
            "Training model with Grid Search: learning_rate = 0.001, dropout = 0.3, l2_reg = 0.0001, epochs = 20, batch_size = 64\n",
            "Training model with Grid Search: learning_rate = 0.001, dropout = 0.3, l2_reg = 0.0001, epochs = 30, batch_size = 64\n",
            "Training model with Grid Search: learning_rate = 0.001, dropout = 0.3, l2_reg = 0.0001, epochs = 40, batch_size = 64\n",
            "Training model with Grid Search: learning_rate = 0.001, dropout = 0.3, l2_reg = 0.0001, epochs = 50, batch_size = 64\n",
            "Training model with Grid Search: learning_rate = 0.001, dropout = 0.3, l2_reg = 0.002, epochs = 10, batch_size = 64\n",
            "Training model with Grid Search: learning_rate = 0.001, dropout = 0.3, l2_reg = 0.002, epochs = 20, batch_size = 64\n",
            "Training model with Grid Search: learning_rate = 0.001, dropout = 0.3, l2_reg = 0.002, epochs = 30, batch_size = 64\n",
            "Training model with Grid Search: learning_rate = 0.001, dropout = 0.3, l2_reg = 0.002, epochs = 40, batch_size = 64\n",
            "Training model with Grid Search: learning_rate = 0.001, dropout = 0.3, l2_reg = 0.002, epochs = 50, batch_size = 64\n",
            "Training model with Grid Search: learning_rate = 0.001, dropout = 0.5, l2_reg = 0.01, epochs = 10, batch_size = 64\n",
            "Training model with Grid Search: learning_rate = 0.001, dropout = 0.5, l2_reg = 0.01, epochs = 20, batch_size = 64\n",
            "Training model with Grid Search: learning_rate = 0.001, dropout = 0.5, l2_reg = 0.01, epochs = 30, batch_size = 64\n",
            "Training model with Grid Search: learning_rate = 0.001, dropout = 0.5, l2_reg = 0.01, epochs = 40, batch_size = 64\n",
            "Training model with Grid Search: learning_rate = 0.001, dropout = 0.5, l2_reg = 0.01, epochs = 50, batch_size = 64\n",
            "Training model with Grid Search: learning_rate = 0.001, dropout = 0.5, l2_reg = 0.001, epochs = 10, batch_size = 64\n",
            "Training model with Grid Search: learning_rate = 0.001, dropout = 0.5, l2_reg = 0.001, epochs = 20, batch_size = 64\n",
            "Training model with Grid Search: learning_rate = 0.001, dropout = 0.5, l2_reg = 0.001, epochs = 30, batch_size = 64\n",
            "Training model with Grid Search: learning_rate = 0.001, dropout = 0.5, l2_reg = 0.001, epochs = 40, batch_size = 64\n",
            "Training model with Grid Search: learning_rate = 0.001, dropout = 0.5, l2_reg = 0.001, epochs = 50, batch_size = 64\n",
            "Training model with Grid Search: learning_rate = 0.001, dropout = 0.5, l2_reg = 0.02, epochs = 10, batch_size = 64\n",
            "Training model with Grid Search: learning_rate = 0.001, dropout = 0.5, l2_reg = 0.02, epochs = 20, batch_size = 64\n",
            "Training model with Grid Search: learning_rate = 0.001, dropout = 0.5, l2_reg = 0.02, epochs = 30, batch_size = 64\n",
            "Training model with Grid Search: learning_rate = 0.001, dropout = 0.5, l2_reg = 0.02, epochs = 40, batch_size = 64\n",
            "Training model with Grid Search: learning_rate = 0.001, dropout = 0.5, l2_reg = 0.02, epochs = 50, batch_size = 64\n",
            "Training model with Grid Search: learning_rate = 0.001, dropout = 0.5, l2_reg = 0.0001, epochs = 10, batch_size = 64\n",
            "Training model with Grid Search: learning_rate = 0.001, dropout = 0.5, l2_reg = 0.0001, epochs = 20, batch_size = 64\n",
            "Training model with Grid Search: learning_rate = 0.001, dropout = 0.5, l2_reg = 0.0001, epochs = 30, batch_size = 64\n",
            "Training model with Grid Search: learning_rate = 0.001, dropout = 0.5, l2_reg = 0.0001, epochs = 40, batch_size = 64\n",
            "Training model with Grid Search: learning_rate = 0.001, dropout = 0.5, l2_reg = 0.0001, epochs = 50, batch_size = 64\n",
            "Training model with Grid Search: learning_rate = 0.001, dropout = 0.5, l2_reg = 0.002, epochs = 10, batch_size = 64\n",
            "Training model with Grid Search: learning_rate = 0.001, dropout = 0.5, l2_reg = 0.002, epochs = 20, batch_size = 64\n",
            "Training model with Grid Search: learning_rate = 0.001, dropout = 0.5, l2_reg = 0.002, epochs = 30, batch_size = 64\n",
            "Training model with Grid Search: learning_rate = 0.001, dropout = 0.5, l2_reg = 0.002, epochs = 40, batch_size = 64\n",
            "Training model with Grid Search: learning_rate = 0.001, dropout = 0.5, l2_reg = 0.002, epochs = 50, batch_size = 64\n",
            "Training model with Grid Search: learning_rate = 0.001, dropout = 0.6, l2_reg = 0.01, epochs = 10, batch_size = 64\n",
            "Training model with Grid Search: learning_rate = 0.001, dropout = 0.6, l2_reg = 0.01, epochs = 20, batch_size = 64\n",
            "Training model with Grid Search: learning_rate = 0.001, dropout = 0.6, l2_reg = 0.01, epochs = 30, batch_size = 64\n",
            "Training model with Grid Search: learning_rate = 0.001, dropout = 0.6, l2_reg = 0.01, epochs = 40, batch_size = 64\n",
            "Training model with Grid Search: learning_rate = 0.001, dropout = 0.6, l2_reg = 0.01, epochs = 50, batch_size = 64\n",
            "Training model with Grid Search: learning_rate = 0.001, dropout = 0.6, l2_reg = 0.001, epochs = 10, batch_size = 64\n",
            "Training model with Grid Search: learning_rate = 0.001, dropout = 0.6, l2_reg = 0.001, epochs = 20, batch_size = 64\n",
            "Training model with Grid Search: learning_rate = 0.001, dropout = 0.6, l2_reg = 0.001, epochs = 30, batch_size = 64\n",
            "Training model with Grid Search: learning_rate = 0.001, dropout = 0.6, l2_reg = 0.001, epochs = 40, batch_size = 64\n",
            "Training model with Grid Search: learning_rate = 0.001, dropout = 0.6, l2_reg = 0.001, epochs = 50, batch_size = 64\n",
            "Training model with Grid Search: learning_rate = 0.001, dropout = 0.6, l2_reg = 0.02, epochs = 10, batch_size = 64\n",
            "Training model with Grid Search: learning_rate = 0.001, dropout = 0.6, l2_reg = 0.02, epochs = 20, batch_size = 64\n",
            "Training model with Grid Search: learning_rate = 0.001, dropout = 0.6, l2_reg = 0.02, epochs = 30, batch_size = 64\n",
            "Training model with Grid Search: learning_rate = 0.001, dropout = 0.6, l2_reg = 0.02, epochs = 40, batch_size = 64\n",
            "Training model with Grid Search: learning_rate = 0.001, dropout = 0.6, l2_reg = 0.02, epochs = 50, batch_size = 64\n",
            "Training model with Grid Search: learning_rate = 0.001, dropout = 0.6, l2_reg = 0.0001, epochs = 10, batch_size = 64\n",
            "Training model with Grid Search: learning_rate = 0.001, dropout = 0.6, l2_reg = 0.0001, epochs = 20, batch_size = 64\n",
            "Training model with Grid Search: learning_rate = 0.001, dropout = 0.6, l2_reg = 0.0001, epochs = 30, batch_size = 64\n",
            "Training model with Grid Search: learning_rate = 0.001, dropout = 0.6, l2_reg = 0.0001, epochs = 40, batch_size = 64\n",
            "Training model with Grid Search: learning_rate = 0.001, dropout = 0.6, l2_reg = 0.0001, epochs = 50, batch_size = 64\n",
            "Training model with Grid Search: learning_rate = 0.001, dropout = 0.6, l2_reg = 0.002, epochs = 10, batch_size = 64\n",
            "Training model with Grid Search: learning_rate = 0.001, dropout = 0.6, l2_reg = 0.002, epochs = 20, batch_size = 64\n",
            "Training model with Grid Search: learning_rate = 0.001, dropout = 0.6, l2_reg = 0.002, epochs = 30, batch_size = 64\n",
            "Training model with Grid Search: learning_rate = 0.001, dropout = 0.6, l2_reg = 0.002, epochs = 40, batch_size = 64\n",
            "Training model with Grid Search: learning_rate = 0.001, dropout = 0.6, l2_reg = 0.002, epochs = 50, batch_size = 64\n",
            "Training model with Grid Search: learning_rate = 0.01, dropout = 0.3, l2_reg = 0.01, epochs = 10, batch_size = 64\n",
            "Training model with Grid Search: learning_rate = 0.01, dropout = 0.3, l2_reg = 0.01, epochs = 20, batch_size = 64\n",
            "Training model with Grid Search: learning_rate = 0.01, dropout = 0.3, l2_reg = 0.01, epochs = 30, batch_size = 64\n",
            "Training model with Grid Search: learning_rate = 0.01, dropout = 0.3, l2_reg = 0.01, epochs = 40, batch_size = 64\n",
            "Training model with Grid Search: learning_rate = 0.01, dropout = 0.3, l2_reg = 0.01, epochs = 50, batch_size = 64\n",
            "Training model with Grid Search: learning_rate = 0.01, dropout = 0.3, l2_reg = 0.001, epochs = 10, batch_size = 64\n",
            "Training model with Grid Search: learning_rate = 0.01, dropout = 0.3, l2_reg = 0.001, epochs = 20, batch_size = 64\n",
            "Training model with Grid Search: learning_rate = 0.01, dropout = 0.3, l2_reg = 0.001, epochs = 30, batch_size = 64\n",
            "Training model with Grid Search: learning_rate = 0.01, dropout = 0.3, l2_reg = 0.001, epochs = 40, batch_size = 64\n",
            "Training model with Grid Search: learning_rate = 0.01, dropout = 0.3, l2_reg = 0.001, epochs = 50, batch_size = 64\n",
            "Training model with Grid Search: learning_rate = 0.01, dropout = 0.3, l2_reg = 0.02, epochs = 10, batch_size = 64\n",
            "Training model with Grid Search: learning_rate = 0.01, dropout = 0.3, l2_reg = 0.02, epochs = 20, batch_size = 64\n",
            "Training model with Grid Search: learning_rate = 0.01, dropout = 0.3, l2_reg = 0.02, epochs = 30, batch_size = 64\n",
            "Training model with Grid Search: learning_rate = 0.01, dropout = 0.3, l2_reg = 0.02, epochs = 40, batch_size = 64\n",
            "Training model with Grid Search: learning_rate = 0.01, dropout = 0.3, l2_reg = 0.02, epochs = 50, batch_size = 64\n",
            "Training model with Grid Search: learning_rate = 0.01, dropout = 0.3, l2_reg = 0.0001, epochs = 10, batch_size = 64\n",
            "Training model with Grid Search: learning_rate = 0.01, dropout = 0.3, l2_reg = 0.0001, epochs = 20, batch_size = 64\n",
            "Training model with Grid Search: learning_rate = 0.01, dropout = 0.3, l2_reg = 0.0001, epochs = 30, batch_size = 64\n",
            "Training model with Grid Search: learning_rate = 0.01, dropout = 0.3, l2_reg = 0.0001, epochs = 40, batch_size = 64\n",
            "Training model with Grid Search: learning_rate = 0.01, dropout = 0.3, l2_reg = 0.0001, epochs = 50, batch_size = 64\n",
            "Training model with Grid Search: learning_rate = 0.01, dropout = 0.3, l2_reg = 0.002, epochs = 10, batch_size = 64\n",
            "Training model with Grid Search: learning_rate = 0.01, dropout = 0.3, l2_reg = 0.002, epochs = 20, batch_size = 64\n",
            "Training model with Grid Search: learning_rate = 0.01, dropout = 0.3, l2_reg = 0.002, epochs = 30, batch_size = 64\n",
            "Training model with Grid Search: learning_rate = 0.01, dropout = 0.3, l2_reg = 0.002, epochs = 40, batch_size = 64\n",
            "Training model with Grid Search: learning_rate = 0.01, dropout = 0.3, l2_reg = 0.002, epochs = 50, batch_size = 64\n",
            "Training model with Grid Search: learning_rate = 0.01, dropout = 0.5, l2_reg = 0.01, epochs = 10, batch_size = 64\n",
            "Training model with Grid Search: learning_rate = 0.01, dropout = 0.5, l2_reg = 0.01, epochs = 20, batch_size = 64\n",
            "Training model with Grid Search: learning_rate = 0.01, dropout = 0.5, l2_reg = 0.01, epochs = 30, batch_size = 64\n",
            "Training model with Grid Search: learning_rate = 0.01, dropout = 0.5, l2_reg = 0.01, epochs = 40, batch_size = 64\n",
            "Training model with Grid Search: learning_rate = 0.01, dropout = 0.5, l2_reg = 0.01, epochs = 50, batch_size = 64\n",
            "Training model with Grid Search: learning_rate = 0.01, dropout = 0.5, l2_reg = 0.001, epochs = 10, batch_size = 64\n",
            "Training model with Grid Search: learning_rate = 0.01, dropout = 0.5, l2_reg = 0.001, epochs = 20, batch_size = 64\n",
            "Training model with Grid Search: learning_rate = 0.01, dropout = 0.5, l2_reg = 0.001, epochs = 30, batch_size = 64\n",
            "Training model with Grid Search: learning_rate = 0.01, dropout = 0.5, l2_reg = 0.001, epochs = 40, batch_size = 64\n",
            "Training model with Grid Search: learning_rate = 0.01, dropout = 0.5, l2_reg = 0.001, epochs = 50, batch_size = 64\n",
            "Training model with Grid Search: learning_rate = 0.01, dropout = 0.5, l2_reg = 0.02, epochs = 10, batch_size = 64\n",
            "Training model with Grid Search: learning_rate = 0.01, dropout = 0.5, l2_reg = 0.02, epochs = 20, batch_size = 64\n",
            "Training model with Grid Search: learning_rate = 0.01, dropout = 0.5, l2_reg = 0.02, epochs = 30, batch_size = 64\n",
            "Training model with Grid Search: learning_rate = 0.01, dropout = 0.5, l2_reg = 0.02, epochs = 40, batch_size = 64\n",
            "Training model with Grid Search: learning_rate = 0.01, dropout = 0.5, l2_reg = 0.02, epochs = 50, batch_size = 64\n",
            "Training model with Grid Search: learning_rate = 0.01, dropout = 0.5, l2_reg = 0.0001, epochs = 10, batch_size = 64\n",
            "Training model with Grid Search: learning_rate = 0.01, dropout = 0.5, l2_reg = 0.0001, epochs = 20, batch_size = 64\n",
            "Training model with Grid Search: learning_rate = 0.01, dropout = 0.5, l2_reg = 0.0001, epochs = 30, batch_size = 64\n",
            "Training model with Grid Search: learning_rate = 0.01, dropout = 0.5, l2_reg = 0.0001, epochs = 40, batch_size = 64\n",
            "Training model with Grid Search: learning_rate = 0.01, dropout = 0.5, l2_reg = 0.0001, epochs = 50, batch_size = 64\n",
            "Training model with Grid Search: learning_rate = 0.01, dropout = 0.5, l2_reg = 0.002, epochs = 10, batch_size = 64\n",
            "Training model with Grid Search: learning_rate = 0.01, dropout = 0.5, l2_reg = 0.002, epochs = 20, batch_size = 64\n",
            "Training model with Grid Search: learning_rate = 0.01, dropout = 0.5, l2_reg = 0.002, epochs = 30, batch_size = 64\n",
            "Training model with Grid Search: learning_rate = 0.01, dropout = 0.5, l2_reg = 0.002, epochs = 40, batch_size = 64\n",
            "Training model with Grid Search: learning_rate = 0.01, dropout = 0.5, l2_reg = 0.002, epochs = 50, batch_size = 64\n",
            "Training model with Grid Search: learning_rate = 0.01, dropout = 0.6, l2_reg = 0.01, epochs = 10, batch_size = 64\n",
            "Training model with Grid Search: learning_rate = 0.01, dropout = 0.6, l2_reg = 0.01, epochs = 20, batch_size = 64\n",
            "Training model with Grid Search: learning_rate = 0.01, dropout = 0.6, l2_reg = 0.01, epochs = 30, batch_size = 64\n",
            "Training model with Grid Search: learning_rate = 0.01, dropout = 0.6, l2_reg = 0.01, epochs = 40, batch_size = 64\n",
            "Training model with Grid Search: learning_rate = 0.01, dropout = 0.6, l2_reg = 0.01, epochs = 50, batch_size = 64\n",
            "Training model with Grid Search: learning_rate = 0.01, dropout = 0.6, l2_reg = 0.001, epochs = 10, batch_size = 64\n",
            "Training model with Grid Search: learning_rate = 0.01, dropout = 0.6, l2_reg = 0.001, epochs = 20, batch_size = 64\n",
            "Training model with Grid Search: learning_rate = 0.01, dropout = 0.6, l2_reg = 0.001, epochs = 30, batch_size = 64\n",
            "Training model with Grid Search: learning_rate = 0.01, dropout = 0.6, l2_reg = 0.001, epochs = 40, batch_size = 64\n",
            "Training model with Grid Search: learning_rate = 0.01, dropout = 0.6, l2_reg = 0.001, epochs = 50, batch_size = 64\n",
            "Training model with Grid Search: learning_rate = 0.01, dropout = 0.6, l2_reg = 0.02, epochs = 10, batch_size = 64\n",
            "Training model with Grid Search: learning_rate = 0.01, dropout = 0.6, l2_reg = 0.02, epochs = 20, batch_size = 64\n",
            "Training model with Grid Search: learning_rate = 0.01, dropout = 0.6, l2_reg = 0.02, epochs = 30, batch_size = 64\n",
            "Training model with Grid Search: learning_rate = 0.01, dropout = 0.6, l2_reg = 0.02, epochs = 40, batch_size = 64\n",
            "Training model with Grid Search: learning_rate = 0.01, dropout = 0.6, l2_reg = 0.02, epochs = 50, batch_size = 64\n",
            "Training model with Grid Search: learning_rate = 0.01, dropout = 0.6, l2_reg = 0.0001, epochs = 10, batch_size = 64\n",
            "Training model with Grid Search: learning_rate = 0.01, dropout = 0.6, l2_reg = 0.0001, epochs = 20, batch_size = 64\n",
            "Training model with Grid Search: learning_rate = 0.01, dropout = 0.6, l2_reg = 0.0001, epochs = 30, batch_size = 64\n",
            "Training model with Grid Search: learning_rate = 0.01, dropout = 0.6, l2_reg = 0.0001, epochs = 40, batch_size = 64\n",
            "Training model with Grid Search: learning_rate = 0.01, dropout = 0.6, l2_reg = 0.0001, epochs = 50, batch_size = 64\n",
            "Training model with Grid Search: learning_rate = 0.01, dropout = 0.6, l2_reg = 0.002, epochs = 10, batch_size = 64\n",
            "Training model with Grid Search: learning_rate = 0.01, dropout = 0.6, l2_reg = 0.002, epochs = 20, batch_size = 64\n",
            "Training model with Grid Search: learning_rate = 0.01, dropout = 0.6, l2_reg = 0.002, epochs = 30, batch_size = 64\n",
            "Training model with Grid Search: learning_rate = 0.01, dropout = 0.6, l2_reg = 0.002, epochs = 40, batch_size = 64\n",
            "Training model with Grid Search: learning_rate = 0.01, dropout = 0.6, l2_reg = 0.002, epochs = 50, batch_size = 64\n",
            "Training model with Grid Search: learning_rate = 0.0001, dropout = 0.3, l2_reg = 0.01, epochs = 10, batch_size = 64\n",
            "Training model with Grid Search: learning_rate = 0.0001, dropout = 0.3, l2_reg = 0.01, epochs = 20, batch_size = 64\n",
            "Training model with Grid Search: learning_rate = 0.0001, dropout = 0.3, l2_reg = 0.01, epochs = 30, batch_size = 64\n",
            "Training model with Grid Search: learning_rate = 0.0001, dropout = 0.3, l2_reg = 0.01, epochs = 40, batch_size = 64\n",
            "Training model with Grid Search: learning_rate = 0.0001, dropout = 0.3, l2_reg = 0.01, epochs = 50, batch_size = 64\n",
            "Training model with Grid Search: learning_rate = 0.0001, dropout = 0.3, l2_reg = 0.001, epochs = 10, batch_size = 64\n",
            "Training model with Grid Search: learning_rate = 0.0001, dropout = 0.3, l2_reg = 0.001, epochs = 20, batch_size = 64\n",
            "Training model with Grid Search: learning_rate = 0.0001, dropout = 0.3, l2_reg = 0.001, epochs = 30, batch_size = 64\n",
            "Training model with Grid Search: learning_rate = 0.0001, dropout = 0.3, l2_reg = 0.001, epochs = 40, batch_size = 64\n",
            "Training model with Grid Search: learning_rate = 0.0001, dropout = 0.3, l2_reg = 0.001, epochs = 50, batch_size = 64\n",
            "Training model with Grid Search: learning_rate = 0.0001, dropout = 0.3, l2_reg = 0.02, epochs = 10, batch_size = 64\n",
            "Training model with Grid Search: learning_rate = 0.0001, dropout = 0.3, l2_reg = 0.02, epochs = 20, batch_size = 64\n",
            "Training model with Grid Search: learning_rate = 0.0001, dropout = 0.3, l2_reg = 0.02, epochs = 30, batch_size = 64\n",
            "Training model with Grid Search: learning_rate = 0.0001, dropout = 0.3, l2_reg = 0.02, epochs = 40, batch_size = 64\n",
            "Training model with Grid Search: learning_rate = 0.0001, dropout = 0.3, l2_reg = 0.02, epochs = 50, batch_size = 64\n",
            "Training model with Grid Search: learning_rate = 0.0001, dropout = 0.3, l2_reg = 0.0001, epochs = 10, batch_size = 64\n",
            "Training model with Grid Search: learning_rate = 0.0001, dropout = 0.3, l2_reg = 0.0001, epochs = 20, batch_size = 64\n",
            "Training model with Grid Search: learning_rate = 0.0001, dropout = 0.3, l2_reg = 0.0001, epochs = 30, batch_size = 64\n",
            "Training model with Grid Search: learning_rate = 0.0001, dropout = 0.3, l2_reg = 0.0001, epochs = 40, batch_size = 64\n",
            "Training model with Grid Search: learning_rate = 0.0001, dropout = 0.3, l2_reg = 0.0001, epochs = 50, batch_size = 64\n",
            "Training model with Grid Search: learning_rate = 0.0001, dropout = 0.3, l2_reg = 0.002, epochs = 10, batch_size = 64\n",
            "Training model with Grid Search: learning_rate = 0.0001, dropout = 0.3, l2_reg = 0.002, epochs = 20, batch_size = 64\n",
            "Training model with Grid Search: learning_rate = 0.0001, dropout = 0.3, l2_reg = 0.002, epochs = 30, batch_size = 64\n",
            "Training model with Grid Search: learning_rate = 0.0001, dropout = 0.3, l2_reg = 0.002, epochs = 40, batch_size = 64\n",
            "Training model with Grid Search: learning_rate = 0.0001, dropout = 0.3, l2_reg = 0.002, epochs = 50, batch_size = 64\n",
            "Training model with Grid Search: learning_rate = 0.0001, dropout = 0.5, l2_reg = 0.01, epochs = 10, batch_size = 64\n",
            "Training model with Grid Search: learning_rate = 0.0001, dropout = 0.5, l2_reg = 0.01, epochs = 20, batch_size = 64\n",
            "Training model with Grid Search: learning_rate = 0.0001, dropout = 0.5, l2_reg = 0.01, epochs = 30, batch_size = 64\n",
            "Training model with Grid Search: learning_rate = 0.0001, dropout = 0.5, l2_reg = 0.01, epochs = 40, batch_size = 64\n",
            "Training model with Grid Search: learning_rate = 0.0001, dropout = 0.5, l2_reg = 0.01, epochs = 50, batch_size = 64\n",
            "Training model with Grid Search: learning_rate = 0.0001, dropout = 0.5, l2_reg = 0.001, epochs = 10, batch_size = 64\n",
            "Training model with Grid Search: learning_rate = 0.0001, dropout = 0.5, l2_reg = 0.001, epochs = 20, batch_size = 64\n",
            "Training model with Grid Search: learning_rate = 0.0001, dropout = 0.5, l2_reg = 0.001, epochs = 30, batch_size = 64\n",
            "Training model with Grid Search: learning_rate = 0.0001, dropout = 0.5, l2_reg = 0.001, epochs = 40, batch_size = 64\n",
            "Training model with Grid Search: learning_rate = 0.0001, dropout = 0.5, l2_reg = 0.001, epochs = 50, batch_size = 64\n",
            "Training model with Grid Search: learning_rate = 0.0001, dropout = 0.5, l2_reg = 0.02, epochs = 10, batch_size = 64\n",
            "Training model with Grid Search: learning_rate = 0.0001, dropout = 0.5, l2_reg = 0.02, epochs = 20, batch_size = 64\n",
            "Training model with Grid Search: learning_rate = 0.0001, dropout = 0.5, l2_reg = 0.02, epochs = 30, batch_size = 64\n",
            "Training model with Grid Search: learning_rate = 0.0001, dropout = 0.5, l2_reg = 0.02, epochs = 40, batch_size = 64\n",
            "Training model with Grid Search: learning_rate = 0.0001, dropout = 0.5, l2_reg = 0.02, epochs = 50, batch_size = 64\n",
            "Training model with Grid Search: learning_rate = 0.0001, dropout = 0.5, l2_reg = 0.0001, epochs = 10, batch_size = 64\n",
            "Training model with Grid Search: learning_rate = 0.0001, dropout = 0.5, l2_reg = 0.0001, epochs = 20, batch_size = 64\n",
            "Training model with Grid Search: learning_rate = 0.0001, dropout = 0.5, l2_reg = 0.0001, epochs = 30, batch_size = 64\n",
            "Training model with Grid Search: learning_rate = 0.0001, dropout = 0.5, l2_reg = 0.0001, epochs = 40, batch_size = 64\n",
            "Training model with Grid Search: learning_rate = 0.0001, dropout = 0.5, l2_reg = 0.0001, epochs = 50, batch_size = 64\n",
            "Training model with Grid Search: learning_rate = 0.0001, dropout = 0.5, l2_reg = 0.002, epochs = 10, batch_size = 64\n",
            "Training model with Grid Search: learning_rate = 0.0001, dropout = 0.5, l2_reg = 0.002, epochs = 20, batch_size = 64\n",
            "Training model with Grid Search: learning_rate = 0.0001, dropout = 0.5, l2_reg = 0.002, epochs = 30, batch_size = 64\n",
            "Training model with Grid Search: learning_rate = 0.0001, dropout = 0.5, l2_reg = 0.002, epochs = 40, batch_size = 64\n",
            "Training model with Grid Search: learning_rate = 0.0001, dropout = 0.5, l2_reg = 0.002, epochs = 50, batch_size = 64\n",
            "Training model with Grid Search: learning_rate = 0.0001, dropout = 0.6, l2_reg = 0.01, epochs = 10, batch_size = 64\n",
            "Training model with Grid Search: learning_rate = 0.0001, dropout = 0.6, l2_reg = 0.01, epochs = 20, batch_size = 64\n",
            "Training model with Grid Search: learning_rate = 0.0001, dropout = 0.6, l2_reg = 0.01, epochs = 30, batch_size = 64\n",
            "Training model with Grid Search: learning_rate = 0.0001, dropout = 0.6, l2_reg = 0.01, epochs = 40, batch_size = 64\n",
            "Training model with Grid Search: learning_rate = 0.0001, dropout = 0.6, l2_reg = 0.01, epochs = 50, batch_size = 64\n",
            "Training model with Grid Search: learning_rate = 0.0001, dropout = 0.6, l2_reg = 0.001, epochs = 10, batch_size = 64\n",
            "Training model with Grid Search: learning_rate = 0.0001, dropout = 0.6, l2_reg = 0.001, epochs = 20, batch_size = 64\n",
            "Training model with Grid Search: learning_rate = 0.0001, dropout = 0.6, l2_reg = 0.001, epochs = 30, batch_size = 64\n",
            "Training model with Grid Search: learning_rate = 0.0001, dropout = 0.6, l2_reg = 0.001, epochs = 40, batch_size = 64\n",
            "Training model with Grid Search: learning_rate = 0.0001, dropout = 0.6, l2_reg = 0.001, epochs = 50, batch_size = 64\n",
            "Training model with Grid Search: learning_rate = 0.0001, dropout = 0.6, l2_reg = 0.02, epochs = 10, batch_size = 64\n",
            "Training model with Grid Search: learning_rate = 0.0001, dropout = 0.6, l2_reg = 0.02, epochs = 20, batch_size = 64\n",
            "Training model with Grid Search: learning_rate = 0.0001, dropout = 0.6, l2_reg = 0.02, epochs = 30, batch_size = 64\n",
            "Training model with Grid Search: learning_rate = 0.0001, dropout = 0.6, l2_reg = 0.02, epochs = 40, batch_size = 64\n",
            "Training model with Grid Search: learning_rate = 0.0001, dropout = 0.6, l2_reg = 0.02, epochs = 50, batch_size = 64\n",
            "Training model with Grid Search: learning_rate = 0.0001, dropout = 0.6, l2_reg = 0.0001, epochs = 10, batch_size = 64\n",
            "Training model with Grid Search: learning_rate = 0.0001, dropout = 0.6, l2_reg = 0.0001, epochs = 20, batch_size = 64\n",
            "Training model with Grid Search: learning_rate = 0.0001, dropout = 0.6, l2_reg = 0.0001, epochs = 30, batch_size = 64\n",
            "Training model with Grid Search: learning_rate = 0.0001, dropout = 0.6, l2_reg = 0.0001, epochs = 40, batch_size = 64\n",
            "Training model with Grid Search: learning_rate = 0.0001, dropout = 0.6, l2_reg = 0.0001, epochs = 50, batch_size = 64\n",
            "Training model with Grid Search: learning_rate = 0.0001, dropout = 0.6, l2_reg = 0.002, epochs = 10, batch_size = 64\n",
            "Training model with Grid Search: learning_rate = 0.0001, dropout = 0.6, l2_reg = 0.002, epochs = 20, batch_size = 64\n",
            "Training model with Grid Search: learning_rate = 0.0001, dropout = 0.6, l2_reg = 0.002, epochs = 30, batch_size = 64\n",
            "Training model with Grid Search: learning_rate = 0.0001, dropout = 0.6, l2_reg = 0.002, epochs = 40, batch_size = 64\n",
            "Training model with Grid Search: learning_rate = 0.0001, dropout = 0.6, l2_reg = 0.002, epochs = 50, batch_size = 64\n"
          ]
        }
      ]
    },
    {
      "cell_type": "code",
      "source": [
        "print(\"Best Validation Accuracy:\", best_score)\n",
        "print(\"Best Hyperparameters:\", best_params)"
      ],
      "metadata": {
        "colab": {
          "base_uri": "https://localhost:8080/"
        },
        "id": "CRIN00b0b5vu",
        "outputId": "c8c15bab-950c-41cc-e274-decc0debcbfa"
      },
      "execution_count": 80,
      "outputs": [
        {
          "output_type": "stream",
          "name": "stdout",
          "text": [
            "Best Validation Accuracy: 0.8396226167678833\n",
            "Best Hyperparameters: {'learning_rate': 0.01, 'dropout_rate': 0.5, 'l2_reg': 0.02, 'epochs': 30, 'batch_size': 64}\n"
          ]
        }
      ]
    },
    {
      "cell_type": "code",
      "source": [
        "final_model_grid = create_model(learning_rate = best_params['learning_rate'],\n",
        "                           dropout_rate = best_params['dropout_rate'],\n",
        "                           l2_reg = best_params['l2_reg'])"
      ],
      "metadata": {
        "id": "sy3wsvAJb9MH"
      },
      "execution_count": 81,
      "outputs": []
    },
    {
      "cell_type": "code",
      "source": [
        "history_final_2 = final_model_grid.fit(train_combined_features, train_labels,\n",
        "                                validation_split = 0.2,\n",
        "                                epochs = best_params['epochs'],\n",
        "                                batch_size = best_params['batch_size'], class_weight = class_weights)"
      ],
      "metadata": {
        "colab": {
          "base_uri": "https://localhost:8080/"
        },
        "id": "kz9o366lcJ1L",
        "outputId": "6d7bad49-0e05-430a-d660-d5f1e27e3bc8",
        "collapsed": true
      },
      "execution_count": 82,
      "outputs": [
        {
          "output_type": "stream",
          "name": "stdout",
          "text": [
            "Epoch 1/30\n",
            "\u001b[1m20/20\u001b[0m \u001b[32m━━━━━━━━━━━━━━━━━━━━\u001b[0m\u001b[37m\u001b[0m \u001b[1m4s\u001b[0m 23ms/step - accuracy: 0.6703 - loss: 6.2869 - val_accuracy: 0.8333 - val_loss: 1.1564\n",
            "Epoch 2/30\n",
            "\u001b[1m20/20\u001b[0m \u001b[32m━━━━━━━━━━━━━━━━━━━━\u001b[0m\u001b[37m\u001b[0m \u001b[1m0s\u001b[0m 12ms/step - accuracy: 0.8023 - loss: 1.0029 - val_accuracy: 0.8176 - val_loss: 0.6895\n",
            "Epoch 3/30\n",
            "\u001b[1m20/20\u001b[0m \u001b[32m━━━━━━━━━━━━━━━━━━━━\u001b[0m\u001b[37m\u001b[0m \u001b[1m0s\u001b[0m 11ms/step - accuracy: 0.7987 - loss: 0.7050 - val_accuracy: 0.7956 - val_loss: 0.6591\n",
            "Epoch 4/30\n",
            "\u001b[1m20/20\u001b[0m \u001b[32m━━━━━━━━━━━━━━━━━━━━\u001b[0m\u001b[37m\u001b[0m \u001b[1m0s\u001b[0m 10ms/step - accuracy: 0.8005 - loss: 0.6579 - val_accuracy: 0.8208 - val_loss: 0.5470\n",
            "Epoch 5/30\n",
            "\u001b[1m20/20\u001b[0m \u001b[32m━━━━━━━━━━━━━━━━━━━━\u001b[0m\u001b[37m\u001b[0m \u001b[1m0s\u001b[0m 12ms/step - accuracy: 0.8020 - loss: 0.6024 - val_accuracy: 0.7925 - val_loss: 0.6561\n",
            "Epoch 6/30\n",
            "\u001b[1m20/20\u001b[0m \u001b[32m━━━━━━━━━━━━━━━━━━━━\u001b[0m\u001b[37m\u001b[0m \u001b[1m0s\u001b[0m 10ms/step - accuracy: 0.8054 - loss: 0.6211 - val_accuracy: 0.8019 - val_loss: 0.6005\n",
            "Epoch 7/30\n",
            "\u001b[1m20/20\u001b[0m \u001b[32m━━━━━━━━━━━━━━━━━━━━\u001b[0m\u001b[37m\u001b[0m \u001b[1m0s\u001b[0m 11ms/step - accuracy: 0.8176 - loss: 0.5852 - val_accuracy: 0.8113 - val_loss: 0.5278\n",
            "Epoch 8/30\n",
            "\u001b[1m20/20\u001b[0m \u001b[32m━━━━━━━━━━━━━━━━━━━━\u001b[0m\u001b[37m\u001b[0m \u001b[1m0s\u001b[0m 9ms/step - accuracy: 0.8081 - loss: 0.5803 - val_accuracy: 0.8019 - val_loss: 0.5754\n",
            "Epoch 9/30\n",
            "\u001b[1m20/20\u001b[0m \u001b[32m━━━━━━━━━━━━━━━━━━━━\u001b[0m\u001b[37m\u001b[0m \u001b[1m0s\u001b[0m 10ms/step - accuracy: 0.7969 - loss: 0.5996 - val_accuracy: 0.8113 - val_loss: 0.5346\n",
            "Epoch 10/30\n",
            "\u001b[1m20/20\u001b[0m \u001b[32m━━━━━━━━━━━━━━━━━━━━\u001b[0m\u001b[37m\u001b[0m \u001b[1m0s\u001b[0m 11ms/step - accuracy: 0.8128 - loss: 0.5884 - val_accuracy: 0.7925 - val_loss: 0.6258\n",
            "Epoch 11/30\n",
            "\u001b[1m20/20\u001b[0m \u001b[32m━━━━━━━━━━━━━━━━━━━━\u001b[0m\u001b[37m\u001b[0m \u001b[1m0s\u001b[0m 9ms/step - accuracy: 0.8226 - loss: 0.6122 - val_accuracy: 0.8113 - val_loss: 0.5411\n",
            "Epoch 12/30\n",
            "\u001b[1m20/20\u001b[0m \u001b[32m━━━━━━━━━━━━━━━━━━━━\u001b[0m\u001b[37m\u001b[0m \u001b[1m0s\u001b[0m 11ms/step - accuracy: 0.8136 - loss: 0.5739 - val_accuracy: 0.8113 - val_loss: 0.5506\n",
            "Epoch 13/30\n",
            "\u001b[1m20/20\u001b[0m \u001b[32m━━━━━━━━━━━━━━━━━━━━\u001b[0m\u001b[37m\u001b[0m \u001b[1m0s\u001b[0m 10ms/step - accuracy: 0.8072 - loss: 0.5894 - val_accuracy: 0.7893 - val_loss: 0.5450\n",
            "Epoch 14/30\n",
            "\u001b[1m20/20\u001b[0m \u001b[32m━━━━━━━━━━━━━━━━━━━━\u001b[0m\u001b[37m\u001b[0m \u001b[1m0s\u001b[0m 10ms/step - accuracy: 0.7981 - loss: 0.5855 - val_accuracy: 0.8145 - val_loss: 0.5113\n",
            "Epoch 15/30\n",
            "\u001b[1m20/20\u001b[0m \u001b[32m━━━━━━━━━━━━━━━━━━━━\u001b[0m\u001b[37m\u001b[0m \u001b[1m0s\u001b[0m 10ms/step - accuracy: 0.8104 - loss: 0.5673 - val_accuracy: 0.7893 - val_loss: 0.5364\n",
            "Epoch 16/30\n",
            "\u001b[1m20/20\u001b[0m \u001b[32m━━━━━━━━━━━━━━━━━━━━\u001b[0m\u001b[37m\u001b[0m \u001b[1m0s\u001b[0m 10ms/step - accuracy: 0.8144 - loss: 0.5686 - val_accuracy: 0.8302 - val_loss: 0.5300\n",
            "Epoch 17/30\n",
            "\u001b[1m20/20\u001b[0m \u001b[32m━━━━━━━━━━━━━━━━━━━━\u001b[0m\u001b[37m\u001b[0m \u001b[1m0s\u001b[0m 10ms/step - accuracy: 0.8153 - loss: 0.5592 - val_accuracy: 0.8050 - val_loss: 0.5619\n",
            "Epoch 18/30\n",
            "\u001b[1m20/20\u001b[0m \u001b[32m━━━━━━━━━━━━━━━━━━━━\u001b[0m\u001b[37m\u001b[0m \u001b[1m0s\u001b[0m 11ms/step - accuracy: 0.7774 - loss: 0.6050 - val_accuracy: 0.8082 - val_loss: 0.5157\n",
            "Epoch 19/30\n",
            "\u001b[1m20/20\u001b[0m \u001b[32m━━━━━━━━━━━━━━━━━━━━\u001b[0m\u001b[37m\u001b[0m \u001b[1m0s\u001b[0m 12ms/step - accuracy: 0.7965 - loss: 0.5630 - val_accuracy: 0.8050 - val_loss: 0.5105\n",
            "Epoch 20/30\n",
            "\u001b[1m20/20\u001b[0m \u001b[32m━━━━━━━━━━━━━━━━━━━━\u001b[0m\u001b[37m\u001b[0m \u001b[1m0s\u001b[0m 10ms/step - accuracy: 0.7989 - loss: 0.5845 - val_accuracy: 0.8050 - val_loss: 0.5268\n",
            "Epoch 21/30\n",
            "\u001b[1m20/20\u001b[0m \u001b[32m━━━━━━━━━━━━━━━━━━━━\u001b[0m\u001b[37m\u001b[0m \u001b[1m0s\u001b[0m 11ms/step - accuracy: 0.8100 - loss: 0.5782 - val_accuracy: 0.8239 - val_loss: 0.5439\n",
            "Epoch 22/30\n",
            "\u001b[1m20/20\u001b[0m \u001b[32m━━━━━━━━━━━━━━━━━━━━\u001b[0m\u001b[37m\u001b[0m \u001b[1m0s\u001b[0m 10ms/step - accuracy: 0.8148 - loss: 0.5763 - val_accuracy: 0.8082 - val_loss: 0.5448\n",
            "Epoch 23/30\n",
            "\u001b[1m20/20\u001b[0m \u001b[32m━━━━━━━━━━━━━━━━━━━━\u001b[0m\u001b[37m\u001b[0m \u001b[1m0s\u001b[0m 9ms/step - accuracy: 0.8115 - loss: 0.5833 - val_accuracy: 0.7767 - val_loss: 0.6040\n",
            "Epoch 24/30\n",
            "\u001b[1m20/20\u001b[0m \u001b[32m━━━━━━━━━━━━━━━━━━━━\u001b[0m\u001b[37m\u001b[0m \u001b[1m0s\u001b[0m 10ms/step - accuracy: 0.8169 - loss: 0.5602 - val_accuracy: 0.8270 - val_loss: 0.5190\n",
            "Epoch 25/30\n",
            "\u001b[1m20/20\u001b[0m \u001b[32m━━━━━━━━━━━━━━━━━━━━\u001b[0m\u001b[37m\u001b[0m \u001b[1m0s\u001b[0m 10ms/step - accuracy: 0.8113 - loss: 0.5922 - val_accuracy: 0.7956 - val_loss: 0.5751\n",
            "Epoch 26/30\n",
            "\u001b[1m20/20\u001b[0m \u001b[32m━━━━━━━━━━━━━━━━━━━━\u001b[0m\u001b[37m\u001b[0m \u001b[1m0s\u001b[0m 12ms/step - accuracy: 0.7867 - loss: 0.5939 - val_accuracy: 0.8176 - val_loss: 0.5192\n",
            "Epoch 27/30\n",
            "\u001b[1m20/20\u001b[0m \u001b[32m━━━━━━━━━━━━━━━━━━━━\u001b[0m\u001b[37m\u001b[0m \u001b[1m0s\u001b[0m 9ms/step - accuracy: 0.8100 - loss: 0.5872 - val_accuracy: 0.7987 - val_loss: 0.5612\n",
            "Epoch 28/30\n",
            "\u001b[1m20/20\u001b[0m \u001b[32m━━━━━━━━━━━━━━━━━━━━\u001b[0m\u001b[37m\u001b[0m \u001b[1m0s\u001b[0m 11ms/step - accuracy: 0.8148 - loss: 0.5689 - val_accuracy: 0.7987 - val_loss: 0.5215\n",
            "Epoch 29/30\n",
            "\u001b[1m20/20\u001b[0m \u001b[32m━━━━━━━━━━━━━━━━━━━━\u001b[0m\u001b[37m\u001b[0m \u001b[1m0s\u001b[0m 9ms/step - accuracy: 0.8223 - loss: 0.5408 - val_accuracy: 0.8145 - val_loss: 0.5387\n",
            "Epoch 30/30\n",
            "\u001b[1m20/20\u001b[0m \u001b[32m━━━━━━━━━━━━━━━━━━━━\u001b[0m\u001b[37m\u001b[0m \u001b[1m0s\u001b[0m 9ms/step - accuracy: 0.8137 - loss: 0.5421 - val_accuracy: 0.8176 - val_loss: 0.5140\n"
          ]
        }
      ]
    },
    {
      "cell_type": "code",
      "source": [
        "final_model_grid.summary()"
      ],
      "metadata": {
        "colab": {
          "base_uri": "https://localhost:8080/",
          "height": 537
        },
        "id": "rLIA_q-8-xJi",
        "outputId": "59d9dd64-ebb8-4ae4-b0e7-2c17c338976d"
      },
      "execution_count": 83,
      "outputs": [
        {
          "output_type": "display_data",
          "data": {
            "text/plain": [
              "\u001b[1mModel: \"sequential_230\"\u001b[0m\n"
            ],
            "text/html": [
              "<pre style=\"white-space:pre;overflow-x:auto;line-height:normal;font-family:Menlo,'DejaVu Sans Mono',consolas,'Courier New',monospace\"><span style=\"font-weight: bold\">Model: \"sequential_230\"</span>\n",
              "</pre>\n"
            ]
          },
          "metadata": {}
        },
        {
          "output_type": "display_data",
          "data": {
            "text/plain": [
              "┏━━━━━━━━━━━━━━━━━━━━━━━━━━━━━━━━━━━━━━┳━━━━━━━━━━━━━━━━━━━━━━━━━━━━━┳━━━━━━━━━━━━━━━━━┓\n",
              "┃\u001b[1m \u001b[0m\u001b[1mLayer (type)                        \u001b[0m\u001b[1m \u001b[0m┃\u001b[1m \u001b[0m\u001b[1mOutput Shape               \u001b[0m\u001b[1m \u001b[0m┃\u001b[1m \u001b[0m\u001b[1m        Param #\u001b[0m\u001b[1m \u001b[0m┃\n",
              "┡━━━━━━━━━━━━━━━━━━━━━━━━━━━━━━━━━━━━━━╇━━━━━━━━━━━━━━━━━━━━━━━━━━━━━╇━━━━━━━━━━━━━━━━━┩\n",
              "│ dense_1368 (\u001b[38;5;33mDense\u001b[0m)                   │ (\u001b[38;5;45mNone\u001b[0m, \u001b[38;5;34m512\u001b[0m)                 │           \u001b[38;5;34m1,536\u001b[0m │\n",
              "├──────────────────────────────────────┼─────────────────────────────┼─────────────────┤\n",
              "│ dropout_1138 (\u001b[38;5;33mDropout\u001b[0m)               │ (\u001b[38;5;45mNone\u001b[0m, \u001b[38;5;34m512\u001b[0m)                 │               \u001b[38;5;34m0\u001b[0m │\n",
              "├──────────────────────────────────────┼─────────────────────────────┼─────────────────┤\n",
              "│ dense_1369 (\u001b[38;5;33mDense\u001b[0m)                   │ (\u001b[38;5;45mNone\u001b[0m, \u001b[38;5;34m256\u001b[0m)                 │         \u001b[38;5;34m131,328\u001b[0m │\n",
              "├──────────────────────────────────────┼─────────────────────────────┼─────────────────┤\n",
              "│ dropout_1139 (\u001b[38;5;33mDropout\u001b[0m)               │ (\u001b[38;5;45mNone\u001b[0m, \u001b[38;5;34m256\u001b[0m)                 │               \u001b[38;5;34m0\u001b[0m │\n",
              "├──────────────────────────────────────┼─────────────────────────────┼─────────────────┤\n",
              "│ dense_1370 (\u001b[38;5;33mDense\u001b[0m)                   │ (\u001b[38;5;45mNone\u001b[0m, \u001b[38;5;34m128\u001b[0m)                 │          \u001b[38;5;34m32,896\u001b[0m │\n",
              "├──────────────────────────────────────┼─────────────────────────────┼─────────────────┤\n",
              "│ dropout_1140 (\u001b[38;5;33mDropout\u001b[0m)               │ (\u001b[38;5;45mNone\u001b[0m, \u001b[38;5;34m128\u001b[0m)                 │               \u001b[38;5;34m0\u001b[0m │\n",
              "├──────────────────────────────────────┼─────────────────────────────┼─────────────────┤\n",
              "│ dense_1371 (\u001b[38;5;33mDense\u001b[0m)                   │ (\u001b[38;5;45mNone\u001b[0m, \u001b[38;5;34m64\u001b[0m)                  │           \u001b[38;5;34m8,256\u001b[0m │\n",
              "├──────────────────────────────────────┼─────────────────────────────┼─────────────────┤\n",
              "│ dropout_1141 (\u001b[38;5;33mDropout\u001b[0m)               │ (\u001b[38;5;45mNone\u001b[0m, \u001b[38;5;34m64\u001b[0m)                  │               \u001b[38;5;34m0\u001b[0m │\n",
              "├──────────────────────────────────────┼─────────────────────────────┼─────────────────┤\n",
              "│ dense_1372 (\u001b[38;5;33mDense\u001b[0m)                   │ (\u001b[38;5;45mNone\u001b[0m, \u001b[38;5;34m32\u001b[0m)                  │           \u001b[38;5;34m2,080\u001b[0m │\n",
              "├──────────────────────────────────────┼─────────────────────────────┼─────────────────┤\n",
              "│ dropout_1142 (\u001b[38;5;33mDropout\u001b[0m)               │ (\u001b[38;5;45mNone\u001b[0m, \u001b[38;5;34m32\u001b[0m)                  │               \u001b[38;5;34m0\u001b[0m │\n",
              "├──────────────────────────────────────┼─────────────────────────────┼─────────────────┤\n",
              "│ dense_1373 (\u001b[38;5;33mDense\u001b[0m)                   │ (\u001b[38;5;45mNone\u001b[0m, \u001b[38;5;34m1\u001b[0m)                   │              \u001b[38;5;34m33\u001b[0m │\n",
              "└──────────────────────────────────────┴─────────────────────────────┴─────────────────┘\n"
            ],
            "text/html": [
              "<pre style=\"white-space:pre;overflow-x:auto;line-height:normal;font-family:Menlo,'DejaVu Sans Mono',consolas,'Courier New',monospace\">┏━━━━━━━━━━━━━━━━━━━━━━━━━━━━━━━━━━━━━━┳━━━━━━━━━━━━━━━━━━━━━━━━━━━━━┳━━━━━━━━━━━━━━━━━┓\n",
              "┃<span style=\"font-weight: bold\"> Layer (type)                         </span>┃<span style=\"font-weight: bold\"> Output Shape                </span>┃<span style=\"font-weight: bold\">         Param # </span>┃\n",
              "┡━━━━━━━━━━━━━━━━━━━━━━━━━━━━━━━━━━━━━━╇━━━━━━━━━━━━━━━━━━━━━━━━━━━━━╇━━━━━━━━━━━━━━━━━┩\n",
              "│ dense_1368 (<span style=\"color: #0087ff; text-decoration-color: #0087ff\">Dense</span>)                   │ (<span style=\"color: #00d7ff; text-decoration-color: #00d7ff\">None</span>, <span style=\"color: #00af00; text-decoration-color: #00af00\">512</span>)                 │           <span style=\"color: #00af00; text-decoration-color: #00af00\">1,536</span> │\n",
              "├──────────────────────────────────────┼─────────────────────────────┼─────────────────┤\n",
              "│ dropout_1138 (<span style=\"color: #0087ff; text-decoration-color: #0087ff\">Dropout</span>)               │ (<span style=\"color: #00d7ff; text-decoration-color: #00d7ff\">None</span>, <span style=\"color: #00af00; text-decoration-color: #00af00\">512</span>)                 │               <span style=\"color: #00af00; text-decoration-color: #00af00\">0</span> │\n",
              "├──────────────────────────────────────┼─────────────────────────────┼─────────────────┤\n",
              "│ dense_1369 (<span style=\"color: #0087ff; text-decoration-color: #0087ff\">Dense</span>)                   │ (<span style=\"color: #00d7ff; text-decoration-color: #00d7ff\">None</span>, <span style=\"color: #00af00; text-decoration-color: #00af00\">256</span>)                 │         <span style=\"color: #00af00; text-decoration-color: #00af00\">131,328</span> │\n",
              "├──────────────────────────────────────┼─────────────────────────────┼─────────────────┤\n",
              "│ dropout_1139 (<span style=\"color: #0087ff; text-decoration-color: #0087ff\">Dropout</span>)               │ (<span style=\"color: #00d7ff; text-decoration-color: #00d7ff\">None</span>, <span style=\"color: #00af00; text-decoration-color: #00af00\">256</span>)                 │               <span style=\"color: #00af00; text-decoration-color: #00af00\">0</span> │\n",
              "├──────────────────────────────────────┼─────────────────────────────┼─────────────────┤\n",
              "│ dense_1370 (<span style=\"color: #0087ff; text-decoration-color: #0087ff\">Dense</span>)                   │ (<span style=\"color: #00d7ff; text-decoration-color: #00d7ff\">None</span>, <span style=\"color: #00af00; text-decoration-color: #00af00\">128</span>)                 │          <span style=\"color: #00af00; text-decoration-color: #00af00\">32,896</span> │\n",
              "├──────────────────────────────────────┼─────────────────────────────┼─────────────────┤\n",
              "│ dropout_1140 (<span style=\"color: #0087ff; text-decoration-color: #0087ff\">Dropout</span>)               │ (<span style=\"color: #00d7ff; text-decoration-color: #00d7ff\">None</span>, <span style=\"color: #00af00; text-decoration-color: #00af00\">128</span>)                 │               <span style=\"color: #00af00; text-decoration-color: #00af00\">0</span> │\n",
              "├──────────────────────────────────────┼─────────────────────────────┼─────────────────┤\n",
              "│ dense_1371 (<span style=\"color: #0087ff; text-decoration-color: #0087ff\">Dense</span>)                   │ (<span style=\"color: #00d7ff; text-decoration-color: #00d7ff\">None</span>, <span style=\"color: #00af00; text-decoration-color: #00af00\">64</span>)                  │           <span style=\"color: #00af00; text-decoration-color: #00af00\">8,256</span> │\n",
              "├──────────────────────────────────────┼─────────────────────────────┼─────────────────┤\n",
              "│ dropout_1141 (<span style=\"color: #0087ff; text-decoration-color: #0087ff\">Dropout</span>)               │ (<span style=\"color: #00d7ff; text-decoration-color: #00d7ff\">None</span>, <span style=\"color: #00af00; text-decoration-color: #00af00\">64</span>)                  │               <span style=\"color: #00af00; text-decoration-color: #00af00\">0</span> │\n",
              "├──────────────────────────────────────┼─────────────────────────────┼─────────────────┤\n",
              "│ dense_1372 (<span style=\"color: #0087ff; text-decoration-color: #0087ff\">Dense</span>)                   │ (<span style=\"color: #00d7ff; text-decoration-color: #00d7ff\">None</span>, <span style=\"color: #00af00; text-decoration-color: #00af00\">32</span>)                  │           <span style=\"color: #00af00; text-decoration-color: #00af00\">2,080</span> │\n",
              "├──────────────────────────────────────┼─────────────────────────────┼─────────────────┤\n",
              "│ dropout_1142 (<span style=\"color: #0087ff; text-decoration-color: #0087ff\">Dropout</span>)               │ (<span style=\"color: #00d7ff; text-decoration-color: #00d7ff\">None</span>, <span style=\"color: #00af00; text-decoration-color: #00af00\">32</span>)                  │               <span style=\"color: #00af00; text-decoration-color: #00af00\">0</span> │\n",
              "├──────────────────────────────────────┼─────────────────────────────┼─────────────────┤\n",
              "│ dense_1373 (<span style=\"color: #0087ff; text-decoration-color: #0087ff\">Dense</span>)                   │ (<span style=\"color: #00d7ff; text-decoration-color: #00d7ff\">None</span>, <span style=\"color: #00af00; text-decoration-color: #00af00\">1</span>)                   │              <span style=\"color: #00af00; text-decoration-color: #00af00\">33</span> │\n",
              "└──────────────────────────────────────┴─────────────────────────────┴─────────────────┘\n",
              "</pre>\n"
            ]
          },
          "metadata": {}
        },
        {
          "output_type": "display_data",
          "data": {
            "text/plain": [
              "\u001b[1m Total params: \u001b[0m\u001b[38;5;34m528,389\u001b[0m (2.02 MB)\n"
            ],
            "text/html": [
              "<pre style=\"white-space:pre;overflow-x:auto;line-height:normal;font-family:Menlo,'DejaVu Sans Mono',consolas,'Courier New',monospace\"><span style=\"font-weight: bold\"> Total params: </span><span style=\"color: #00af00; text-decoration-color: #00af00\">528,389</span> (2.02 MB)\n",
              "</pre>\n"
            ]
          },
          "metadata": {}
        },
        {
          "output_type": "display_data",
          "data": {
            "text/plain": [
              "\u001b[1m Trainable params: \u001b[0m\u001b[38;5;34m176,129\u001b[0m (688.00 KB)\n"
            ],
            "text/html": [
              "<pre style=\"white-space:pre;overflow-x:auto;line-height:normal;font-family:Menlo,'DejaVu Sans Mono',consolas,'Courier New',monospace\"><span style=\"font-weight: bold\"> Trainable params: </span><span style=\"color: #00af00; text-decoration-color: #00af00\">176,129</span> (688.00 KB)\n",
              "</pre>\n"
            ]
          },
          "metadata": {}
        },
        {
          "output_type": "display_data",
          "data": {
            "text/plain": [
              "\u001b[1m Non-trainable params: \u001b[0m\u001b[38;5;34m0\u001b[0m (0.00 B)\n"
            ],
            "text/html": [
              "<pre style=\"white-space:pre;overflow-x:auto;line-height:normal;font-family:Menlo,'DejaVu Sans Mono',consolas,'Courier New',monospace\"><span style=\"font-weight: bold\"> Non-trainable params: </span><span style=\"color: #00af00; text-decoration-color: #00af00\">0</span> (0.00 B)\n",
              "</pre>\n"
            ]
          },
          "metadata": {}
        },
        {
          "output_type": "display_data",
          "data": {
            "text/plain": [
              "\u001b[1m Optimizer params: \u001b[0m\u001b[38;5;34m352,260\u001b[0m (1.34 MB)\n"
            ],
            "text/html": [
              "<pre style=\"white-space:pre;overflow-x:auto;line-height:normal;font-family:Menlo,'DejaVu Sans Mono',consolas,'Courier New',monospace\"><span style=\"font-weight: bold\"> Optimizer params: </span><span style=\"color: #00af00; text-decoration-color: #00af00\">352,260</span> (1.34 MB)\n",
              "</pre>\n"
            ]
          },
          "metadata": {}
        }
      ]
    },
    {
      "cell_type": "code",
      "source": [
        "plt.plot(history_final_2.history['accuracy'], label='train_accuracy', color = 'red')\n",
        "plt.plot(history_final_2.history['val_accuracy'], label='val_accuracy', color = 'blue')\n",
        "plt.title('Model Accuracy')\n",
        "plt.legend()\n",
        "plt.show()"
      ],
      "metadata": {
        "colab": {
          "base_uri": "https://localhost:8080/",
          "height": 452
        },
        "id": "Q_7A0uypcUSe",
        "outputId": "ead3e478-c231-4d22-e03d-09e829b930c4"
      },
      "execution_count": 91,
      "outputs": [
        {
          "output_type": "display_data",
          "data": {
            "text/plain": [
              "<Figure size 640x480 with 1 Axes>"
            ],
            "image/png": "[encoded data removed]"
          },
          "metadata": {}
        }
      ]
    },
    {
      "cell_type": "code",
      "source": [
        "plt.plot(history_final_2.history['loss'], label='train_loss', color='red')\n",
        "plt.plot(history_final_2.history['val_loss'], label='val_loss', color='blue')\n",
        "plt.title('Model Loss')\n",
        "plt.legend()\n",
        "plt.show()"
      ],
      "metadata": {
        "colab": {
          "base_uri": "https://localhost:8080/",
          "height": 452
        },
        "id": "ClncELBXcauL",
        "outputId": "e60e98b8-6ee0-4186-8ce9-f5e33ce41876"
      },
      "execution_count": 92,
      "outputs": [
        {
          "output_type": "display_data",
          "data": {
            "text/plain": [
              "<Figure size 640x480 with 1 Axes>"
            ],
            "image/png": "[encoded data removed]"
          },
          "metadata": {}
        }
      ]
    },
    {
      "cell_type": "code",
      "source": [
        "y_pred_grid = (final_model_grid.predict(test_combined_features) > 0.5).astype(\"int32\")"
      ],
      "metadata": {
        "colab": {
          "base_uri": "https://localhost:8080/"
        },
        "id": "jBWxJv0NccNc",
        "outputId": "9f28f32b-150f-43fb-85af-08e0d3d77902"
      },
      "execution_count": 86,
      "outputs": [
        {
          "output_type": "stream",
          "name": "stdout",
          "text": [
            "\u001b[1m13/13\u001b[0m \u001b[32m━━━━━━━━━━━━━━━━━━━━\u001b[0m\u001b[37m\u001b[0m \u001b[1m0s\u001b[0m 8ms/step\n"
          ]
        }
      ]
    },
    {
      "cell_type": "code",
      "source": [
        "CM = confusion_matrix(test_labels, y_pred_grid)\n",
        "disp = ConfusionMatrixDisplay(confusion_matrix = CM)\n",
        "disp.plot(cmap = plt.cm.Blues)\n",
        "plt.title(\"Confusion Matrix Fusion Model\")\n",
        "plt.show()"
      ],
      "metadata": {
        "colab": {
          "base_uri": "https://localhost:8080/",
          "height": 472
        },
        "id": "ppxHZnlrclql",
        "outputId": "da351889-20a6-47db-dff8-245fc23f255f"
      },
      "execution_count": 93,
      "outputs": [
        {
          "output_type": "display_data",
          "data": {
            "text/plain": [
              "<Figure size 640x480 with 2 Axes>"
            ],
            "image/png": "[encoded data removed]"
          },
          "metadata": {}
        }
      ]
    },
    {
      "cell_type": "code",
      "source": [
        "print(classification_report(test_labels, y_pred_grid))"
      ],
      "metadata": {
        "colab": {
          "base_uri": "https://localhost:8080/"
        },
        "id": "xp-AbnXYcoUA",
        "outputId": "b9b77a6c-f3c4-4ff8-a4af-79b6f812e134"
      },
      "execution_count": 88,
      "outputs": [
        {
          "output_type": "stream",
          "name": "stdout",
          "text": [
            "              precision    recall  f1-score   support\n",
            "\n",
            "           0       0.80      0.88      0.84       200\n",
            "           1       0.86      0.77      0.82       198\n",
            "\n",
            "    accuracy                           0.83       398\n",
            "   macro avg       0.83      0.83      0.83       398\n",
            "weighted avg       0.83      0.83      0.83       398\n",
            "\n"
          ]
        }
      ]
    },
    {
      "cell_type": "code",
      "source": [
        "final_model_grid.save('fusion_model.keras')"
      ],
      "metadata": {
        "id": "b_KEayfwPrTe"
      },
      "execution_count": 94,
      "outputs": []
    }
  ]
}